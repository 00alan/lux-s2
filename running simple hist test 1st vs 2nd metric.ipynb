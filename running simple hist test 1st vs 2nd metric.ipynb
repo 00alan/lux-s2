{
 "cells": [
  {
   "cell_type": "code",
   "execution_count": 17,
   "id": "6e685653",
   "metadata": {},
   "outputs": [],
   "source": [
    "from luxai_s2.env import LuxAI_S2\n",
    "import matplotlib.pyplot as plt\n",
    "import numpy as np\n",
    "from tqdm import tqdm\n",
    "from scipy.ndimage import distance_transform_cdt\n",
    "\n",
    "ore_mult_1 = 0.8\n",
    "second_fact_mult = 1/4 #small because dont know if opponent will take \"our second best\""
   ]
  },
  {
   "cell_type": "code",
   "execution_count": 18,
   "id": "b2c38774",
   "metadata": {},
   "outputs": [],
   "source": [
    "def manhattan_distance(binary_mask):\n",
    "    # Get the distance map from every pixel to the nearest positive pixel\n",
    "    distance_map = distance_transform_cdt(binary_mask, metric='taxicab')\n",
    "    return distance_map"
   ]
  },
  {
   "cell_type": "code",
   "execution_count": 19,
   "id": "87db1cf2",
   "metadata": {},
   "outputs": [
    {
     "name": "stderr",
     "output_type": "stream",
     "text": [
      "100%|██████████████████████████████████████████████████████████████████████████████| 1000/1000 [00:13<00:00, 72.44it/s]"
     ]
    },
    {
     "name": "stdout",
     "output_type": "stream",
     "text": [
      "CPU times: total: 13.8 s\n",
      "Wall time: 13.8 s\n"
     ]
    },
    {
     "name": "stderr",
     "output_type": "stream",
     "text": [
      "\n"
     ]
    }
   ],
   "source": [
    "%%time\n",
    "\n",
    "first_vs_seconds = []\n",
    "\n",
    "for i in tqdm(np.arange(1500,2500)):\n",
    "    env = LuxAI_S2()\n",
    "    obs = env.reset(seed=i)\n",
    "    ice = obs['player_0'][\"board\"][\"ice\"]\n",
    "    ore = obs['player_0'][\"board\"][\"ore\"]\n",
    "    dist_ice = manhattan_distance(1 - ice)\n",
    "    dist_ore = manhattan_distance(1 - ore)\n",
    "    score = dist_ice + dist_ore * 0.9 # *0.9 just to make it tie breaker, 2 from ice and 3 from ore beats 3 from ice and 2 from ore\n",
    "\n",
    "    valid_spawns = obs[\"player_0\"][\"board\"][\"valid_spawns_mask\"] #not masking out any zeros because there are none; can't be distance zero to both ice and ore\n",
    "    valid_spawns = np.ones(valid_spawns.shape) * valid_spawns + 0.0001\n",
    "    score = score / valid_spawns\n",
    "    sorted_indexes = np.argsort(score, axis=None)\n",
    "    \n",
    "    less = 100\n",
    "    topN =  [np.unravel_index(index, (48, 48)) for index in sorted_indexes[:less]]\n",
    "    dist_ice_2, dist_ore_2 = [], []\n",
    "    for x,y in topN:\n",
    "        closest_ice = min(\n",
    "            dist_ice[x-1,y-1],\n",
    "            dist_ice[x-1,y],\n",
    "            dist_ice[x-1,y+1],\n",
    "            dist_ice[x,y-1],\n",
    "            #dist_ice[x,y],\n",
    "            dist_ice[x,y+1],\n",
    "            dist_ice[x+1,y-1],\n",
    "            dist_ice[x+1,y],\n",
    "            dist_ice[x+1,y+1]\n",
    "        )\n",
    "        dist_ice_2.append(closest_ice)\n",
    "        closest_ore = min(\n",
    "            dist_ore[x-1,y-1],\n",
    "            dist_ore[x-1,y],\n",
    "            dist_ore[x-1,y+1],\n",
    "            dist_ore[x,y-1],\n",
    "            #dist_ore[x,y],\n",
    "            dist_ore[x,y+1],\n",
    "            dist_ore[x+1,y-1],\n",
    "            dist_ore[x+1,y],\n",
    "            dist_ore[x+1,y+1]\n",
    "        )\n",
    "        dist_ore_2.append(closest_ore)\n",
    "    scores = dist_ice_2 + np.array(dist_ore_2) * ore_mult_1\n",
    "    sorted_indexes = np.argsort(scores)\n",
    "\n",
    "    no_overlap = [] #list of locations sorted by score and non overlapping\n",
    "    corresponding_scores = [] #list of corresponding scores\n",
    "    for i in sorted_indexes:\n",
    "        loc = np.array(topN[i])\n",
    "        score = scores[i]\n",
    "        if len(no_overlap) == 0:\n",
    "            no_overlap.append(loc)\n",
    "            corresponding_scores.append(score)\n",
    "            continue\n",
    "        if any([np.sum(np.abs(loc-placed)) < 6 for placed in no_overlap]):\n",
    "            continue\n",
    "        no_overlap.append(loc)\n",
    "        corresponding_scores.append(score)\n",
    "    _scores = corresponding_scores.copy()\n",
    "    first_vs_seconds.append((_scores[0] - _scores[1]) + second_fact_mult * (_scores[2] - _scores[3]))"
   ]
  },
  {
   "cell_type": "code",
   "execution_count": 20,
   "id": "6ed46d78",
   "metadata": {},
   "outputs": [
    {
     "data": {
      "image/png": "[encoded data removed]",
      "text/plain": [
       "<Figure size 640x480 with 1 Axes>"
      ]
     },
     "metadata": {},
     "output_type": "display_data"
    }
   ],
   "source": [
    "plt.hist(first_vs_seconds, bins = 50)\n",
    "plt.show()"
   ]
  },
  {
   "cell_type": "code",
   "execution_count": null,
   "id": "c7cf2022",
   "metadata": {},
   "outputs": [],
   "source": [
    "plt.hist(first_vs_seconds, bins = 50)\n",
    "plt.show()"
   ]
  }
 ],
 "metadata": {
  "kernelspec": {
   "display_name": "Python 3 (ipykernel)",
   "language": "python",
   "name": "python3"
  },
  "language_info": {
   "codemirror_mode": {
    "name": "ipython",
    "version": 3
   },
   "file_extension": ".py",
   "mimetype": "text/x-python",
   "name": "python",
   "nbconvert_exporter": "python",
   "pygments_lexer": "ipython3",
   "version": "3.8.16"
  }
 },
 "nbformat": 4,
 "nbformat_minor": 5
}
