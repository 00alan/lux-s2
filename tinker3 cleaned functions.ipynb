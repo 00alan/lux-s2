{
 "cells": [
  {
   "cell_type": "code",
   "execution_count": 32,
   "metadata": {
    "execution": {
     "iopub.execute_input": "2023-01-24T19:39:43.846990Z",
     "iopub.status.busy": "2023-01-24T19:39:43.846545Z",
     "iopub.status.idle": "2023-01-24T19:39:45.768603Z",
     "shell.execute_reply": "2023-01-24T19:39:45.767534Z",
     "shell.execute_reply.started": "2023-01-24T19:39:43.846946Z"
    }
   },
   "outputs": [
    {
     "data": {
      "text/plain": [
       "0.045454545454545456"
      ]
     },
     "execution_count": 32,
     "metadata": {},
     "output_type": "execute_result"
    }
   ],
   "source": [
    "from luxai_s2.env import LuxAI_S2\n",
    "import matplotlib.pyplot as plt\n",
    "import numpy as np\n",
    "from scipy.ndimage import distance_transform_cdt\n",
    "import itertools\n",
    "from tqdm import tqdm\n",
    "\n",
    "ore1_vs_ice1_mult = 1/2\n",
    "successive_factory_mult = 2/3\n",
    "# commented out below line because territory metric should take care of this when neccessary\n",
    "#factory_border_buffer = 3\n",
    "n_factories_initial = 5\n",
    "N_second_ice_cutoff = 10 #more than N nsquares away from factory center and we don't care about the 2nd ice anymore\n",
    "ice2_vs_ice1_mult = ore1_vs_ice1_mult * 1/(N_second_ice_cutoff + 1)\n",
    "#above: just make sure factories with no nearby ice2 don't get penalty that overshadows the ore1 penalty.\n",
    "#ice2_vs_ice1_mult = 1/(N_second_ice_cutoff + 1)\n",
    "ice2_vs_ice1_mult"
   ]
  },
  {
   "cell_type": "code",
   "execution_count": 33,
   "metadata": {},
   "outputs": [],
   "source": [
    "def board_manhattan_distance(binary_mask):\n",
    "    # Get the distance map from every pixel to the nearest positive pixel\n",
    "    distance_map = distance_transform_cdt(binary_mask, metric='taxicab')\n",
    "    return distance_map\n",
    "\n",
    "def generate_nsquares(point, n):\n",
    "    x, y = point\n",
    "    nsquares = []\n",
    "    for i in range(-n, n+1):\n",
    "        for j in range(-n, n+1):\n",
    "            if abs(i) == n or abs(j) == n:\n",
    "                nsquares.append((x+i, y+j))\n",
    "    return nsquares\n",
    "\n",
    "def generate_pairings(lst):\n",
    "    pairings = []\n",
    "    for i, j in itertools.combinations(lst, 2):\n",
    "        pairings.append((i,j))\n",
    "    return pairings\n",
    "\n",
    "def bipartite_pairings(L, R):\n",
    "    pairings = set()\n",
    "    for l in L:\n",
    "        for r in R:\n",
    "            pairings.add((l, r))\n",
    "    return pairings\n",
    "\n",
    "def manh(point1, point2):\n",
    "    return abs(point1[0] - point2[0]) + abs(point1[1] - point2[1])\n",
    "\n",
    "def nearest_point(point, points):\n",
    "    nearest = points[0]\n",
    "    nearest_distance = manh(point, nearest)\n",
    "    for p in points[1:]:\n",
    "        distance = manh(point, p)\n",
    "        if distance < nearest_distance:\n",
    "            nearest = p\n",
    "            nearest_distance = distance\n",
    "    return nearest\n",
    "\n",
    "def n_dist_to_nearest(A, n):\n",
    "    B = set()\n",
    "    for x in range(min(p[0] for p in A) - n, max(p[0] for p in A) + n+1):\n",
    "        for y in range(min(p[1] for p in A) - n, max(p[1] for p in A) + n+1):\n",
    "            point = (x, y)\n",
    "            nearest = nearest_point(point, A)\n",
    "            if manh(point, nearest) == n:\n",
    "                B.add(point)\n",
    "    return B"
   ]
  },
  {
   "cell_type": "code",
   "execution_count": 65,
   "metadata": {},
   "outputs": [
    {
     "name": "stdout",
     "output_type": "stream",
     "text": [
      "\n",
      "[(28, 21), (32, 26), (28, 28), (44, 10), (32, 19), (43, 33), (34, 15), (9, 46), (9, 2), (45, 15)]\n",
      "[1.9090909090909092, 2.4545454545454546, 3.0, 3.5, 3.5, 4.0, 4.0, 4.318181818181818, 4.954545454545455, 5.5]\n",
      "[0, 2, 6, 25, 20, 42, 29, 45, 89, 124]\n",
      "\n",
      "ice and ore dist: [3, 3, 3, 2, 3, 3, 3, 3, 3, 4] [3, 4, 5, 6, 6, 7, 7, 8, 9, 7]\n",
      "\n",
      "CPU times: total: 1.69 s\n",
      "Wall time: 1.69 s\n"
     ]
    },
    {
     "data": {
      "text/plain": [
       "-1.2300785634118965"
      ]
     },
     "execution_count": 65,
     "metadata": {},
     "output_type": "execute_result"
    },
    {
     "data": {
      "image/png": "[encoded data removed]",
      "text/plain": [
       "<Figure size 640x480 with 1 Axes>"
      ]
     },
     "metadata": {},
     "output_type": "display_data"
    }
   ],
   "source": [
    "%%time\n",
    "#this cell calculates first_vs_second taking into account valid spawns, 1st ice, 1st ore, and factory overlaps\n",
    "# and also takes into account distance to 2nd ice, only for 2nd ice where manhattan distance > 2 away from 1st ice\n",
    "\n",
    "\n",
    "env = LuxAI_S2()\n",
    "#obs = env.reset(seed=3)\n",
    "obs = env.reset()\n",
    "img = env.render(\"rgb_array\", width=480, height=480)\n",
    "plt.imshow(img)\n",
    "\n",
    "def ice1ore1_scores(obs):\n",
    "    board_ice = obs['player_0'][\"board\"][\"ice\"]\n",
    "    board_ore = obs['player_0'][\"board\"][\"ore\"]\n",
    "    dist_ice = board_manhattan_distance(1 - board_ice)\n",
    "    dist_ore = board_manhattan_distance(1 - board_ore)\n",
    "\n",
    "    valid_spawns = obs[\"player_0\"][\"board\"][\"valid_spawns_mask\"] \n",
    "    factory_dist_ice, factory_dist_ore = [], []\n",
    "    for x in range(48):\n",
    "        for y in range(48):\n",
    "            if not valid_spawns[x][y]:\n",
    "                factory_dist_ice.append(999)\n",
    "                factory_dist_ore.append(999)\n",
    "                continue\n",
    "            closest_ice = min([dist_ice[_x, _y] for _x, _y in generate_nsquares([x,y], 1)])\n",
    "            factory_dist_ice.append(closest_ice)\n",
    "\n",
    "            closest_ore = min([dist_ore[_x, _y] for _x, _y in generate_nsquares([x,y], 1)])\n",
    "            factory_dist_ore.append(closest_ore)    \n",
    "    scores = factory_dist_ice + np.array(factory_dist_ore) * ore1_vs_ice1_mult\n",
    "    sorted_indexes_1 = np.argsort(scores)\n",
    "    return scores, sorted_indexes_1\n",
    "\n",
    "def with_ice2_scores(obs, scores, sorted_indexes_1, less = 200):\n",
    "    board_ice = obs['player_0'][\"board\"][\"ice\"]\n",
    "    board_ore = obs['player_0'][\"board\"][\"ore\"]\n",
    "    dist_ice = board_manhattan_distance(1 - board_ice)\n",
    "    dist_ore = board_manhattan_distance(1 - board_ore)\n",
    "    \n",
    "    factory_dist_ice2 = []\n",
    "    for i in sorted_indexes_1[:less]:\n",
    "        x,y = np.unravel_index(i, (48, 48))\n",
    "        dist_ice1 = dist_ice[x][y]\n",
    "        dist_ice2 = None\n",
    "        factory_tiles = generate_nsquares([x,y], 1)\n",
    "\n",
    "        less_than_n_away = []\n",
    "        for n in range(0, N_second_ice_cutoff): #if second ice is more than N nsquares away it kinda doesnt matter, can just add some constant penalty\n",
    "            if dist_ice2:\n",
    "                break\n",
    "            n_away = []\n",
    "\n",
    "            if n < 2: #these are factory tiles\n",
    "                continue\n",
    "            if n == 2: #edge case where ltoet_n_away is empty\n",
    "                for _x,_y in n_dist_to_nearest(factory_tiles, n):\n",
    "                    if (_x < 0 or _y < 0) or (_x >= 48 or _y >= 48): \n",
    "                        continue\n",
    "                    if board_ice[_x][_y] == 1:\n",
    "                        n_away.append((_x,_y))  \n",
    "                if len(n_away) >= 2:\n",
    "                    for ice1, ice2 in generate_pairings(n_away):\n",
    "                        if manh(ice1, ice2) > 2:\n",
    "                            dist_ice2 = manh(ice2, (x,y))\n",
    "                for loc in n_away:\n",
    "                    less_than_n_away.append(loc)\n",
    "            else:            \n",
    "                for _x,_y in n_dist_to_nearest(factory_tiles, n):\n",
    "                    if (_x < 0 or _y < 0) or (_x >= 48 or _y >= 48): \n",
    "                        continue\n",
    "                    if board_ice[_x][_y] == 1:\n",
    "                        n_away.append((_x,_y))  \n",
    "                    if len(n_away) >= 1:\n",
    "                        for ice1, ice2 in bipartite_pairings(less_than_n_away, n_away):\n",
    "                            if manh(ice1, ice2) > 2:\n",
    "                                dist_ice2 = manh(ice2, (x,y))\n",
    "                    for loc in n_away:\n",
    "                        less_than_n_away.append(loc)   \n",
    "        #finished going from 0 to cutoff\n",
    "        if not dist_ice2:\n",
    "            dist_ice2 = N_second_ice_cutoff+1\n",
    "        factory_dist_ice2.append(dist_ice2)\n",
    "    for i in sorted_indexes_1[less:]:\n",
    "        dist_ice2 = N_second_ice_cutoff+1\n",
    "        factory_dist_ice2.append(dist_ice2)\n",
    "    assert len(factory_dist_ice2) == len(scores)\n",
    "    #print(factory_dist_ice[:20])\n",
    "    #print(factory_dist_ice2[:20])\n",
    "\n",
    "    #update scores to reflect distances to ice2\n",
    "    for _ in range(48*48):\n",
    "        #break\n",
    "        i = sorted_indexes_1[_] #because we indexed factory_dist_ice2 differently so we dont have to compute for all 48*48\n",
    "        #print(scores[i], factory_dist_ice2[_])\n",
    "        scores[i] += factory_dist_ice2[_] * ice2_vs_ice1_mult\n",
    "    #sorted_indexes_2 to reflect new scores accounting for ice2\n",
    "    sorted_indexes_2 = np.argsort(scores) \n",
    "    return scores, sorted_indexes_2\n",
    "\n",
    "def no_overlap(scores, sorted_indexes_2, sorted_indexes_1, topN = n_factories*2):\n",
    "    nol_locations, nol_scores = [], [] \n",
    "    corresponding_si1_index = [] #corresponding to sorted_indexes_1, just for bookeeping, used to see that ~80 is safe for 'less' parameter above\n",
    "    count = -1\n",
    "    while len(nol_locations) < topN:\n",
    "        count += 1\n",
    "        i = sorted_indexes_2[count]\n",
    "        loc = np.unravel_index(i, (48, 48))\n",
    "        score = scores[i]\n",
    "        if len(nol_locations) == 0:\n",
    "            nol_locations.append(loc)\n",
    "            nol_scores.append(score)\n",
    "            flattened_i = loc[0]*48 + loc[1]\n",
    "            corresponding_si1_index.append(list(sorted_indexes_1).index(flattened_i))\n",
    "            continue\n",
    "        if any([np.sum(np.abs(np.array(loc)-np.array(factory))) < 6 for factory in nol_locations]):\n",
    "            scores[i] = 999 #this is only here to show results in the print loop below, once factories start getting placed can mess things up\n",
    "            continue\n",
    "        nol_locations.append(loc)\n",
    "        nol_scores.append(score)\n",
    "        flattened_i = loc[0]*48 + loc[1]\n",
    "        corresponding_si1_index.append(list(sorted_indexes_1).index(flattened_i))\n",
    "\n",
    "    for i in sorted_indexes_2[:count+1]:\n",
    "        #print(np.unravel_index(i, (48, 48)), factory_dist_ice[i], factory_dist_ore[i], scores[i])\n",
    "        break\n",
    "    \n",
    "    return nol_locations, nol_scores, corresponding_si1_index\n",
    "\n",
    "def spawn_locations(obs): #only using proximity to nearest single ice and ore\n",
    "    scores, sorted_indexes_1 = ice1ore1_scores(obs)\n",
    "    scores, sorted_indexes_2 = with_ice2_scores(obs, scores, sorted_indexes_1, 200)\n",
    "\n",
    "    factories_to_place = n_factories_initial*2\n",
    "    nol_locations, nol_scores, corresponding_si1_index = no_overlap(scores, sorted_indexes_2, sorted_indexes_1, factories_to_place)\n",
    "    return nol_locations, nol_scores, corresponding_si1_index\n",
    "\n",
    "def nol_to_1stvs2nd(nol_scores):\n",
    "    assert len(nol_scores) == n_factories_initial * 2\n",
    "    _1st_vs_2nd = 0\n",
    "    for i in range(int(len(nol_scores)/2)):\n",
    "        _1st_vs_2nd += (nol_scores[i] - nol_scores[i+1]) * successive_factory_mult**i\n",
    "    return _1st_vs_2nd\n",
    "        \n",
    "nol_locations, nol_scores, corresponding_si1_index = spawn_locations(obs)\n",
    "_1st_vs_2nd = nol_to_1stvs2nd(nol_scores)\n",
    "\n",
    "print()\n",
    "print(nol_locations)\n",
    "print(nol_scores)\n",
    "print(corresponding_si1_index) #IMPORTANT: these are rarely over 50, so we can pretty comfortably set the 'less' var above to 80\n",
    "board_ice = obs['player_0'][\"board\"][\"ice\"]\n",
    "board_ore = obs['player_0'][\"board\"][\"ore\"]\n",
    "dist_ice = board_manhattan_distance(1 - board_ice)\n",
    "dist_ore = board_manhattan_distance(1 - board_ore)\n",
    "print()\n",
    "print('ice and ore dist:', [dist_ice[x][y] for x,y in nol_locations], [dist_ore[x][y] for x,y in nol_locations])\n",
    "print()\n",
    "\n",
    "_1st_vs_2nd"
   ]
  },
  {
   "cell_type": "code",
   "execution_count": null,
   "metadata": {},
   "outputs": [],
   "source": []
  },
  {
   "cell_type": "code",
   "execution_count": null,
   "metadata": {},
   "outputs": [],
   "source": []
  },
  {
   "cell_type": "code",
   "execution_count": null,
   "metadata": {},
   "outputs": [],
   "source": []
  },
  {
   "cell_type": "code",
   "execution_count": null,
   "metadata": {},
   "outputs": [],
   "source": []
  },
  {
   "cell_type": "code",
   "execution_count": null,
   "metadata": {},
   "outputs": [],
   "source": []
  },
  {
   "cell_type": "code",
   "execution_count": null,
   "metadata": {},
   "outputs": [],
   "source": [
    "#metric for placing factory: 'intended territory'\n",
    "\n",
    "#pseudocode: proceeding through argsorted ice-ore distances, a factory location has N intended territory defined as size\n",
    "    # of contested tiles w rubble <= 35\n",
    "\n",
    "#rubble=0 tile at distance n from factory center loc has value (46+46)/(n-1) --- (since n >= 2 for non factory tiles)\n",
    "#disregard all eight factory tiles (i+-1/0, j+-1/0),\n",
    "#\n"
   ]
  },
  {
   "cell_type": "code",
   "execution_count": null,
   "metadata": {},
   "outputs": [],
   "source": [
    "# judge new positions by change in total board state if we were to build there"
   ]
  },
  {
   "cell_type": "code",
   "execution_count": null,
   "metadata": {},
   "outputs": [],
   "source": []
  },
  {
   "cell_type": "code",
   "execution_count": null,
   "metadata": {},
   "outputs": [],
   "source": []
  },
  {
   "cell_type": "code",
   "execution_count": null,
   "metadata": {},
   "outputs": [],
   "source": []
  },
  {
   "cell_type": "code",
   "execution_count": null,
   "metadata": {},
   "outputs": [],
   "source": [
    "rubble = obs['player_0']['board']['rubble']\n",
    "rubble.shape\n",
    "conv_size = 8\n",
    "y = rubble.reshape(conv_size,conv_size, int(rubble.shape[0]/conv_size), int(rubble.shape[1]/conv_size))\n",
    "y"
   ]
  },
  {
   "cell_type": "code",
   "execution_count": null,
   "metadata": {},
   "outputs": [],
   "source": [
    "rubble_all = []\n",
    "rubble_means = []\n",
    "#mountain_count, cave_count = 0,0\n",
    "mountain_means, cave_means = [], []\n",
    "for n in tqdm(range(1000)):\n",
    "    obs = env.reset()\n",
    "    m = np.mean(obs['player_0']['board']['rubble'])\n",
    "    if m < 35:\n",
    "        #mountain_count += 1\n",
    "        mountain_means.append(m)\n",
    "    else:\n",
    "        #cave_count += 1\n",
    "        cave_means.append(m)\n",
    "    rubble_means.append(m)\n",
    "plt.hist(rubble_means, bins=50)\n",
    "plt.show()\n",
    "print(len(mountain_means), len(cave_means))\n",
    "np.mean(mountain_means), np.mean(cave_means)"
   ]
  },
  {
   "cell_type": "code",
   "execution_count": null,
   "metadata": {},
   "outputs": [],
   "source": []
  }
 ],
 "metadata": {
  "kernelspec": {
   "display_name": "Python 3 (ipykernel)",
   "language": "python",
   "name": "python3"
  },
  "language_info": {
   "codemirror_mode": {
    "name": "ipython",
    "version": 3
   },
   "file_extension": ".py",
   "mimetype": "text/x-python",
   "name": "python",
   "nbconvert_exporter": "python",
   "pygments_lexer": "ipython3",
   "version": "3.8.16"
  },
  "vscode": {
   "interpreter": {
    "hash": "95c78092eaa97395644b547c35f355f36ca9b4a25bd2b7641e327063759a9b57"
   }
  }
 },
 "nbformat": 4,
 "nbformat_minor": 4
}
