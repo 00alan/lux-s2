{
 "cells": [
  {
   "cell_type": "code",
   "execution_count": 20,
   "id": "6e685653",
   "metadata": {},
   "outputs": [],
   "source": [
    "from luxai_s2.env import LuxAI_S2\n",
    "import matplotlib.pyplot as plt\n",
    "import numpy as np\n",
    "from tqdm import tqdm\n",
    "from scipy.ndimage import distance_transform_cdt\n",
    "import itertools\n",
    "\n",
    "ore1_vs_ice1_mult = 1/2\n",
    "second_factory_mult = 1/3\n",
    "# commented out below line because territory metric should take care of this when neccessary\n",
    "#factory_border_buffer = 3\n",
    "n_factories = 5\n",
    "N_second_ice_cutoff = 10 #more than N nsquares away from factory center and we don't care about the 2nd ice anymore\n",
    "second_ice_default_penalty = 1.3\n",
    "ice2_vs_ice1_mult = 1/(N_second_ice_cutoff * second_ice_default_penalty + 1) #this way if a factory doesnt have a cutoff and receives the default penalty then it still is only a tie breaker since <1"
   ]
  },
  {
   "cell_type": "code",
   "execution_count": 3,
   "id": "b2c38774",
   "metadata": {},
   "outputs": [],
   "source": [
    "def manhattan_distance(binary_mask):\n",
    "    # Get the distance map from every pixel to the nearest positive pixel\n",
    "    distance_map = distance_transform_cdt(binary_mask, metric='taxicab')\n",
    "    return distance_map\n",
    "def generate_nsquares(point, n):\n",
    "    x, y = point\n",
    "    nsquares = []\n",
    "    for i in range(-n, n+1):\n",
    "        for j in range(-n, n+1):\n",
    "            if abs(i) == n or abs(j) == n:\n",
    "                nsquares.append((x+i, y+j))\n",
    "    return nsquares\n",
    "def generate_pairings(lst):\n",
    "    pairings = []\n",
    "    for i, j in itertools.combinations(lst, 2):\n",
    "        pairings.append((i,j))\n",
    "    return pairings"
   ]
  },
  {
   "cell_type": "code",
   "execution_count": 21,
   "id": "87db1cf2",
   "metadata": {},
   "outputs": [
    {
     "name": "stderr",
     "output_type": "stream",
     "text": [
      "100%|████████████████████████████████████████████████████████████████████████████████| 200/200 [00:48<00:00,  4.09it/s]"
     ]
    },
    {
     "name": "stdout",
     "output_type": "stream",
     "text": [
      "CPU times: total: 44 s\n",
      "Wall time: 49 s\n"
     ]
    },
    {
     "name": "stderr",
     "output_type": "stream",
     "text": [
      "\n"
     ]
    }
   ],
   "source": [
    "%%time\n",
    "\n",
    "first_vs_seconds = []\n",
    "\n",
    "for _ in tqdm(range(200)):\n",
    "    env = LuxAI_S2()\n",
    "    obs = env.reset()\n",
    "\n",
    "    board_ice = obs['player_0'][\"board\"][\"ice\"]\n",
    "    board_ore = obs['player_0'][\"board\"][\"ore\"]\n",
    "    dist_ice = manhattan_distance(1 - board_ice)\n",
    "    dist_ore = manhattan_distance(1 - board_ore)\n",
    "\n",
    "    valid_spawns = obs[\"player_0\"][\"board\"][\"valid_spawns_mask\"] \n",
    "    factory_dist_ice, factory_dist_ore = [], []\n",
    "    for x in range(48):\n",
    "        for y in range(48):\n",
    "            #if not valid_spawns[x][y] or (x - factory_border_buffer < 0 or y - factory_border_buffer < 0) or (x + factory_border_buffer >= 48 or y + factory_border_buffer >= 48): \n",
    "            if not valid_spawns[x][y]:\n",
    "                factory_dist_ice.append(999)\n",
    "                factory_dist_ore.append(999)\n",
    "                continue\n",
    "            closest_ice = min([dist_ice[_x, _y] for _x, _y in generate_nsquares([x,y], 1)])\n",
    "            factory_dist_ice.append(closest_ice)\n",
    "\n",
    "            closest_ore = min([dist_ore[_x, _y] for _x, _y in generate_nsquares([x,y], 1)])\n",
    "            factory_dist_ore.append(closest_ore)    \n",
    "\n",
    "    scores = factory_dist_ice + np.array(factory_dist_ore) * ore1_vs_ice1_mult\n",
    "    #print(48*48, len(scores))\n",
    "    sorted_indexes_1 = np.argsort(scores)\n",
    "    #sorted_indexes[:100]\n",
    "\n",
    "\n",
    "    less = 50 #number of locations we will do computations for 2nd closest ice\n",
    "    factory_dist_ice2 = []\n",
    "    for i in sorted_indexes_1[:less]:\n",
    "        x,y = np.unravel_index(i, (48, 48))\n",
    "        dist_ice1 = dist_ice[x][y]\n",
    "        dist_ice2 = None\n",
    "        ltoet_n_away = [] # ltoet <=\n",
    "        for n in range(0, N_second_ice_cutoff): #if second ice is more than N nsquares away it kinda doesnt matter, can just add some constant penalty\n",
    "            if n < 2: #these are factory tiles\n",
    "                continue\n",
    "            for _x,_y in generate_nsquares([x,y], n):\n",
    "                if (_x < 0 or _y < 0) or (_x >= 48 or _y >= 48): \n",
    "                    continue\n",
    "                if board_ice[_x][_y] == 1:\n",
    "                    ltoet_n_away.append((_x,_y))\n",
    "            if len(ltoet_n_away) >= 2:\n",
    "                for ice1, ice2 in generate_pairings(ltoet_n_away):\n",
    "                    if np.sum(np.abs(np.array(ice1)-np.array(ice2))) > 2:\n",
    "                        if np.sum(np.abs(np.array(ice1)-np.array([x,y]))) == dist_ice1: #our first ice must be the closest ice(s)\n",
    "                            dist_ice2 = np.sum(np.abs( np.array(ice2)-np.array([x,y]) ))\n",
    "                            assert dist_ice1 <= dist_ice2\n",
    "        if not dist_ice2:\n",
    "            dist_ice2 = N_second_ice_cutoff * second_ice_default_penalty\n",
    "        factory_dist_ice2.append(dist_ice2)\n",
    "\n",
    "    for i in sorted_indexes_1[less:]:\n",
    "        dist_ice2 = N_second_ice_cutoff * second_ice_default_penalty\n",
    "        factory_dist_ice2.append(dist_ice2)\n",
    "    assert len(factory_dist_ice2) == len(scores)\n",
    "    #print(factory_dist_ice2[:20])\n",
    "\n",
    "\n",
    "    #update scores to reflect distances to ice2\n",
    "    for _ in range(48*48):\n",
    "        i = sorted_indexes_1[_] #because we indexed factory_dist_ice2 differently so we dont have to compute for all 48*48\n",
    "        #print(scores[i], factory_dist_ice2[_])\n",
    "        scores[i] += factory_dist_ice2[_] * ice2_vs_ice1_mult\n",
    "    #sorted_indexes_2 to reflect new scores accounting for ice2\n",
    "    sorted_indexes_2 = np.argsort(scores) \n",
    "\n",
    "    no_overlap, nol_scores = [], [] \n",
    "    corresponding_si1_index = [] #corresponding to sorted_indexes_1\n",
    "    count = -1\n",
    "    #while len(no_overlap) < 2*n_factories:\n",
    "    while len(no_overlap) < 4:\n",
    "        count += 1\n",
    "        i = sorted_indexes_2[count]\n",
    "        loc = np.unravel_index(i, (48, 48))\n",
    "        score = scores[i]\n",
    "        if len(no_overlap) == 0:\n",
    "            no_overlap.append(loc)\n",
    "            nol_scores.append(score)\n",
    "            flattened_i = loc[0]*48 + loc[1]\n",
    "            corresponding_si1_index.append(list(sorted_indexes_1).index(flattened_i))\n",
    "            continue\n",
    "        if any([np.sum(np.abs(np.array(loc)-np.array(factory))) < 6 for factory in no_overlap]):\n",
    "            scores[i] = 999 #this is only here to show results in the print loop below, once factories start getting placed can mess things up\n",
    "            continue\n",
    "        no_overlap.append(loc)\n",
    "        nol_scores.append(score)\n",
    "        flattened_i = loc[0]*48 + loc[1]\n",
    "        corresponding_si1_index.append(list(sorted_indexes_1).index(flattened_i))\n",
    "\n",
    "    for i in sorted_indexes_2[:count+1]:\n",
    "        #print(np.unravel_index(i, (48, 48)), factory_dist_ice[i], factory_dist_ore[i], scores[i])\n",
    "        break\n",
    "\n",
    "    #print(no_overlap)\n",
    "    #print(nol_scores)\n",
    "    #print(corresponding_si1_index) #IMPORTANT: these are rarely over 50, so we can pretty comfortably set the 'less' var above to 80\n",
    "    #print([dist_ice[x][y] for x,y in no_overlap])\n",
    "    #print([dist_ore[x][y] for x,y in no_overlap])\n",
    "    first_vs_seconds.append((nol_scores[0] - nol_scores[1]) + second_factory_mult * (nol_scores[2] - nol_scores[3]))"
   ]
  },
  {
   "cell_type": "code",
   "execution_count": 29,
   "id": "6ed46d78",
   "metadata": {},
   "outputs": [
    {
     "name": "stdout",
     "output_type": "stream",
     "text": [
      "0.665\n",
      "-0.4645238095238095\n"
     ]
    },
    {
     "data": {
      "image/png": "[encoded data removed]",
      "text/plain": [
       "<Figure size 640x480 with 1 Axes>"
      ]
     },
     "metadata": {},
     "output_type": "display_data"
    }
   ],
   "source": [
    "#should only bid not rounded to 10 for bids < 10. for example we dont want to bid 11 because it reduces 5 initial bots to \n",
    "\n",
    "print(sum([abs(x) < 0.5 for x in first_vs_seconds]) / len(first_vs_seconds)) #proportion of games where we bid < 10\n",
    "print(np.mean(first_vs_seconds))\n",
    "plt.hist(first_vs_seconds, bins = 50)\n",
    "plt.show()"
   ]
  },
  {
   "cell_type": "code",
   "execution_count": 32,
   "id": "4627441c",
   "metadata": {},
   "outputs": [
    {
     "name": "stdout",
     "output_type": "stream",
     "text": [
      "0.33\n",
      "-1.021952380952381\n"
     ]
    },
    {
     "data": {
      "image/png": "[encoded data removed]",
      "text/plain": [
       "<Figure size 640x480 with 1 Axes>"
      ]
     },
     "metadata": {},
     "output_type": "display_data"
    }
   ],
   "source": [
    "mult = 2.2 #want to bid 10 on average\n",
    "streched = np.array(first_vs_seconds) * mult\n",
    "print(sum([abs(x) < 0.5 for x in streched]) / len(streched)) #proportion of games where we bid 0\n",
    "print(np.mean(streched))\n",
    "plt.hist(streched, bins = 50)\n",
    "plt.show()"
   ]
  },
  {
   "cell_type": "code",
   "execution_count": null,
   "id": "69dab8f0",
   "metadata": {},
   "outputs": [],
   "source": []
  }
 ],
 "metadata": {
  "kernelspec": {
   "display_name": "Python 3 (ipykernel)",
   "language": "python",
   "name": "python3"
  },
  "language_info": {
   "codemirror_mode": {
    "name": "ipython",
    "version": 3
   },
   "file_extension": ".py",
   "mimetype": "text/x-python",
   "name": "python",
   "nbconvert_exporter": "python",
   "pygments_lexer": "ipython3",
   "version": "3.8.16"
  }
 },
 "nbformat": 4,
 "nbformat_minor": 5
}
