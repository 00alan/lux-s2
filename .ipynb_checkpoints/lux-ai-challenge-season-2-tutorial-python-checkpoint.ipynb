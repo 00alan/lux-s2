{
 "cells": [
  {
   "cell_type": "markdown",
   "metadata": {
    "_cell_guid": "b1076dfc-b9ad-4769-8c92-a6c4dae69d19",
    "_uuid": "8f2839f25d086af736a60e9eeb907d3b93b6e0e5",
    "execution": {
     "iopub.execute_input": "2023-01-24T18:02:29.511609Z",
     "iopub.status.busy": "2023-01-24T18:02:29.510799Z",
     "iopub.status.idle": "2023-01-24T18:02:29.548408Z",
     "shell.execute_reply": "2023-01-24T18:02:29.547142Z",
     "shell.execute_reply.started": "2023-01-24T18:02:29.511489Z"
    }
   },
   "source": [
    "# Lux AI Season 2 Tutorial - Python Kit\n",
    "\n",
    "Welcome to Lux AI Season 2!\n",
    "\n",
    "This notebook is the basic setup to use Jupyter Notebooks and the kaggle-environments package to develop your bot. If you plan to not use Jupyter Notebooks or any other programming language, please see our Github. The following are some important links!\n",
    "\n",
    "Competition Page: https://www.kaggle.com/c/lux-ai-season-2/\n",
    "\n",
    "Online Visualizer: https://s2vis.lux-ai.org/\n",
    "\n",
    "Specifications: https://www.lux-ai.org/specs-s2\n",
    "\n",
    "Github: https://github.com/Lux-AI-Challenge/Lux-Design-S2\n",
    "\n",
    "Bot API: https://github.com/Lux-AI-Challenge/Lux-Design-S2/tree/main/kits\n",
    "\n",
    "And if you haven't done so already, we highly recommend you join our Discord server at https://discord.gg/aWJt3UAcgn or at the minimum follow the kaggle forums at https://www.kaggle.com/c/lux-ai-season-2/discussion. We post important announcements there such as changes to rules, events, and opportunities from our sponsors!\n",
    "\n",
    "Now let's get started!"
   ]
  },
  {
   "cell_type": "markdown",
   "metadata": {
    "execution": {
     "iopub.status.busy": "2023-01-24T18:02:29.549628Z",
     "iopub.status.idle": "2023-01-24T18:02:29.550292Z",
     "shell.execute_reply": "2023-01-24T18:02:29.550099Z",
     "shell.execute_reply.started": "2023-01-24T18:02:29.550071Z"
    }
   },
   "source": [
    "## Prerequisites\n",
    "We assume that you have a basic knowledge of Python and programming. It's okay if you don't know the game specifications yet! Feel free to always refer back to https://www.lux-ai.org/specs-s2.\n",
    "\n",
    "## Basic Setup\n",
    "First thing to verify is that you have python 3.7 or above and have the [luxai_s2](https://pypi.org/project/luxai_s2/) package installed"
   ]
  },
  {
   "cell_type": "code",
   "execution_count": null,
   "metadata": {},
   "outputs": [],
   "source": [
    "# verify version\n",
    "!python --version\n",
    "!pip install --upgrade luxai_s2\n",
    "!pip install importlib-metadata==4.13.0\n",
    "!pip install --upgrade moviepy # needed to render videos of episodes"
   ]
  },
  {
   "cell_type": "code",
   "execution_count": 2,
   "metadata": {
    "execution": {
     "iopub.execute_input": "2023-01-24T19:39:43.846990Z",
     "iopub.status.busy": "2023-01-24T19:39:43.846545Z",
     "iopub.status.idle": "2023-01-24T19:39:45.768603Z",
     "shell.execute_reply": "2023-01-24T19:39:45.767534Z",
     "shell.execute_reply.started": "2023-01-24T19:39:43.846946Z"
    }
   },
   "outputs": [],
   "source": [
    "from luxai_s2.env import LuxAI_S2\n",
    "import matplotlib.pyplot as plt\n",
    "import numpy as np"
   ]
  },
  {
   "cell_type": "markdown",
   "metadata": {},
   "source": [
    "We can now create an environment and start interacting with it, as well as look at what the observation is like"
   ]
  },
  {
   "cell_type": "code",
   "execution_count": 3,
   "metadata": {
    "execution": {
     "iopub.execute_input": "2023-01-24T19:39:46.052351Z",
     "iopub.status.busy": "2023-01-24T19:39:46.051205Z",
     "iopub.status.idle": "2023-01-24T19:39:46.068702Z",
     "shell.execute_reply": "2023-01-24T19:39:46.067580Z",
     "shell.execute_reply.started": "2023-01-24T19:39:46.052316Z"
    }
   },
   "outputs": [],
   "source": [
    "env = LuxAI_S2() # create the environment object\n",
    "obs = env.reset(seed=41) # resets an environment with a seed"
   ]
  },
  {
   "cell_type": "code",
   "execution_count": 4,
   "metadata": {
    "execution": {
     "iopub.execute_input": "2023-01-24T19:39:52.623205Z",
     "iopub.status.busy": "2023-01-24T19:39:52.622757Z",
     "iopub.status.idle": "2023-01-24T19:39:52.633998Z",
     "shell.execute_reply": "2023-01-24T19:39:52.632648Z",
     "shell.execute_reply.started": "2023-01-24T19:39:52.623169Z"
    }
   },
   "outputs": [
    {
     "data": {
      "text/plain": [
       "(dict_keys(['player_0', 'player_1']),\n",
       " dict_keys(['units', 'teams', 'factories', 'board', 'real_env_steps', 'global_id']))"
      ]
     },
     "execution_count": 4,
     "metadata": {},
     "output_type": "execute_result"
    }
   ],
   "source": [
    "# the observation is always composed of observations for both players.\n",
    "obs.keys(), obs[\"player_0\"].keys()"
   ]
  },
  {
   "cell_type": "markdown",
   "metadata": {},
   "source": [
    "To visualize the environment, on jupyter notebooks you have two options\n",
    "\n",
    "With the `rgb_array` mode you can visualize every step as an environment episode progresses. \n",
    "\n",
    "With the CLI tool, you can run an episode and save a replay.json to upload to https://s2vis.lux-ai.org/ or a replay.html file to directly open and watch"
   ]
  },
  {
   "cell_type": "code",
   "execution_count": 5,
   "metadata": {
    "execution": {
     "iopub.execute_input": "2023-01-24T19:39:53.800713Z",
     "iopub.status.busy": "2023-01-24T19:39:53.800017Z",
     "iopub.status.idle": "2023-01-24T19:39:54.158812Z",
     "shell.execute_reply": "2023-01-24T19:39:54.157933Z",
     "shell.execute_reply.started": "2023-01-24T19:39:53.800678Z"
    }
   },
   "outputs": [
    {
     "data": {
      "text/plain": [
       "<matplotlib.image.AxesImage at 0x7fccb4b30190>"
      ]
     },
     "execution_count": 5,
     "metadata": {},
     "output_type": "execute_result"
    },
    {
     "data": {
      "image/png": "[encoded data removed]",
      "text/plain": [
       "<Figure size 432x288 with 1 Axes>"
      ]
     },
     "metadata": {
      "needs_background": "light"
     },
     "output_type": "display_data"
    }
   ],
   "source": [
    "# visualize the environment so far with rgb_array to get a quick look at the map\n",
    "# dark orange - high rubble, light orange - low rubble\n",
    "# blue = ice, yellow = ore\n",
    "img = env.render(\"rgb_array\", width=640, height=640)\n",
    "plt.imshow(img)"
   ]
  },
  {
   "cell_type": "markdown",
   "metadata": {},
   "source": [
    "## Building an Agent\n",
    "Now we know what the environment looks like, let's try building a working agent. The goal of this environment to ensure at least one factory stays alive by the end of the episode and grow as much lichen as possible.\n",
    "\n",
    "In our kit we provide a skeleton for building an agent. Avoid removing any function from the kit unless you know what you are doing as it may cause your agent to fail on the competition servers. This agent defintion should be stored in the `agent.py` file.\n",
    "\n",
    "The agent will have `self.player, self.opp_player, self.env_cfg` populated with the correct values at each step of an environment during competition or when you use the CLI tool to run matches. \n",
    "\n",
    "`self.env_cfg` stores the curent environment's configurations, and `self.player, self.opp_player` stores the name of your player/team and the opposition respectively (will always be \"player_0\" or \"player_1\")."
   ]
  },
  {
   "cell_type": "code",
   "execution_count": 7,
   "metadata": {
    "execution": {
     "iopub.execute_input": "2023-01-24T19:40:06.897335Z",
     "iopub.status.busy": "2023-01-24T19:40:06.896924Z",
     "iopub.status.idle": "2023-01-24T19:40:06.909031Z",
     "shell.execute_reply": "2023-01-24T19:40:06.907824Z",
     "shell.execute_reply.started": "2023-01-24T19:40:06.897303Z"
    }
   },
   "outputs": [],
   "source": [
    "from lux.kit import obs_to_game_state, GameState, EnvConfig\n",
    "from luxai_s2.utils import animate\n",
    "from lux.utils import direction_to, my_turn_to_place_factory\n",
    "class Agent():\n",
    "    def __init__(self, player: str, env_cfg: EnvConfig) -> None:\n",
    "        self.player = player\n",
    "        self.opp_player = \"player_1\" if self.player == \"player_0\" else \"player_0\"\n",
    "        np.random.seed(0)\n",
    "        self.env_cfg: EnvConfig = env_cfg\n",
    "\n",
    "    def early_setup(self, step: int, obs, remainingOverageTime: int = 60):\n",
    "        actions = dict()\n",
    "        # optionally convert observations to python objects with utility functions\n",
    "        game_state = obs_to_game_state(step, self.env_cfg, obs) \n",
    "        return actions\n",
    "\n",
    "    def act(self, step: int, obs, remainingOverageTime: int = 60):\n",
    "        actions = dict()\n",
    "        game_state = obs_to_game_state(step, self.env_cfg, obs)\n",
    "        return actions"
   ]
  },
  {
   "cell_type": "markdown",
   "metadata": {},
   "source": [
    "Note that in season 2, there are two distinct phases of the game where you will have to program two different sets of logic to play it.\n",
    "\n",
    "We will also define a simple function to initialize our agent and interact with the environment and generate a simple video replay.\n",
    "No need to worry about how this works specifically, you can copy paste this as you see fit. Note that this is a simplified representation. In order to visually see all numbers and details about units, factories etc. use our web visualizer."
   ]
  },
  {
   "cell_type": "code",
   "execution_count": 8,
   "metadata": {
    "execution": {
     "iopub.execute_input": "2023-01-24T19:40:40.163980Z",
     "iopub.status.busy": "2023-01-24T19:40:40.163528Z",
     "iopub.status.idle": "2023-01-24T19:40:40.178043Z",
     "shell.execute_reply": "2023-01-24T19:40:40.176597Z",
     "shell.execute_reply.started": "2023-01-24T19:40:40.163946Z"
    }
   },
   "outputs": [],
   "source": [
    "def animate(imgs, _return=True):\n",
    "    # using cv2 to generate videos as moviepy doesn't work on kaggle notebooks\n",
    "    import cv2\n",
    "    import os\n",
    "    import string\n",
    "    import random\n",
    "    video_name = ''.join(random.choice(string.ascii_letters) for i in range(18))+'.webm'\n",
    "    height, width, layers = imgs[0].shape\n",
    "    fourcc = cv2.VideoWriter_fourcc(*'VP90')\n",
    "    video = cv2.VideoWriter(video_name, fourcc, 10, (width,height))\n",
    "\n",
    "    for img in imgs:\n",
    "        img = cv2.cvtColor(img, cv2.COLOR_BGR2RGB)\n",
    "        video.write(img)\n",
    "    video.release()\n",
    "    if _return:\n",
    "        from IPython.display import Video\n",
    "        return Video(video_name)\n",
    "def interact(env, agents, steps):\n",
    "    # reset our env\n",
    "    obs = env.reset(seed=41)\n",
    "    np.random.seed(0)\n",
    "    imgs = []\n",
    "    step = 0\n",
    "    # Note that as the environment has two phases, we also keep track a value called \n",
    "    # `real_env_steps` in the environment state. The first phase ends once `real_env_steps` is 0 and used below\n",
    "\n",
    "    # iterate until phase 1 ends\n",
    "    while env.state.real_env_steps < 0:\n",
    "        if step >= steps: break\n",
    "        actions = {}\n",
    "        for player in env.agents:\n",
    "            o = obs[player]\n",
    "            a = agents[player].early_setup(step, o)\n",
    "            actions[player] = a\n",
    "        step += 1\n",
    "        obs, rewards, dones, infos = env.step(actions)\n",
    "        imgs += [env.render(\"rgb_array\", width=640, height=640)]\n",
    "    done = False\n",
    "    while not done:\n",
    "        if step >= steps: break\n",
    "        actions = {}\n",
    "        for player in env.agents:\n",
    "            o = obs[player]\n",
    "            a = agents[player].act(step, o)\n",
    "            actions[player] = a\n",
    "        step += 1\n",
    "        obs, rewards, dones, infos = env.step(actions)\n",
    "        imgs += [env.render(\"rgb_array\", width=640, height=640)]\n",
    "        done = dones[\"player_0\"] and dones[\"player_1\"]\n",
    "    return animate(imgs)"
   ]
  },
  {
   "cell_type": "markdown",
   "metadata": {},
   "source": [
    "### Early Phase\n",
    "\n",
    "During the first turn of the game, each player is given the map, starting resources (N factories and N\\*150 water and ore), and are asked to bid for who goes first/second. Each 1 bid removes 1 water and 1 ore from that player's starting resources. Each player responds in turn 1 with their bid, which can be positive to prefer going first or negative to prefer going second. \n",
    "\n",
    "After bidding you then place each of your factories. Each team gets `N` factories to place, with. For conveniency the observation contains all possible spawn locations for your team which account for the opponent's factories and resource tiles which you can't spawn on.\n",
    "\n",
    "We will write a simple `early_setup` function to return the appropriate action to handle this phase.\n",
    "\n"
   ]
  },
  {
   "cell_type": "code",
   "execution_count": 9,
   "metadata": {
    "execution": {
     "iopub.execute_input": "2023-01-24T19:43:03.880088Z",
     "iopub.status.busy": "2023-01-24T19:43:03.879639Z",
     "iopub.status.idle": "2023-01-24T19:43:03.890188Z",
     "shell.execute_reply": "2023-01-24T19:43:03.888785Z",
     "shell.execute_reply.started": "2023-01-24T19:43:03.880053Z"
    }
   },
   "outputs": [],
   "source": [
    "def early_setup(self, step: int, obs, remainingOverageTime: int = 60):\n",
    "    if step == 0:\n",
    "        # bid 0 to not waste resources bidding and declare as the default faction\n",
    "        # you can bid -n to prefer going second or n to prefer going first in placement\n",
    "        return dict(faction=\"AlphaStrike\", bid=0)\n",
    "    else:\n",
    "        game_state = obs_to_game_state(step, self.env_cfg, obs)\n",
    "        # factory placement period\n",
    "        \n",
    "        # how much water and metal you have in your starting pool to give to new factories\n",
    "        water_left = game_state.teams[self.player].water\n",
    "        metal_left = game_state.teams[self.player].metal\n",
    "        \n",
    "        # how many factories you have left to place\n",
    "        factories_to_place = game_state.teams[self.player].factories_to_place\n",
    "        # whether it is your turn to place a factory\n",
    "        my_turn_to_place = my_turn_to_place_factory(game_state.teams[self.player].place_first, step)\n",
    "        if factories_to_place > 0 and my_turn_to_place:\n",
    "            # we will spawn our factory in a random location with 150 metal and water if it is our turn to place\n",
    "            potential_spawns = np.array(list(zip(*np.where(obs[\"board\"][\"valid_spawns_mask\"] == 1))))\n",
    "            spawn_loc = potential_spawns[np.random.randint(0, len(potential_spawns))]\n",
    "            return dict(spawn=spawn_loc, metal=150, water=150)\n",
    "        return dict()\n",
    "Agent.early_setup = early_setup"
   ]
  },
  {
   "cell_type": "markdown",
   "metadata": {},
   "source": [
    "Each team gets `N` factories to place, with. For conveniency the observation contains all possible spawn locations for your team"
   ]
  },
  {
   "cell_type": "code",
   "execution_count": 11,
   "metadata": {
    "execution": {
     "iopub.execute_input": "2023-01-24T19:43:20.020710Z",
     "iopub.status.busy": "2023-01-24T19:43:20.020210Z",
     "iopub.status.idle": "2023-01-24T19:43:22.001899Z",
     "shell.execute_reply": "2023-01-24T19:43:22.000148Z",
     "shell.execute_reply.started": "2023-01-24T19:43:20.020674Z"
    }
   },
   "outputs": [
    {
     "name": "stderr",
     "output_type": "stream",
     "text": [
      "OpenCV: FFMPEG: tag 0x30395056/'VP90' is not supported with codec id 167 and format 'webm / WebM'\n"
     ]
    },
    {
     "data": {
      "text/html": [
       "<video src=\"rLbAjymbdivQjKFrwl.webm\" controls  >\n",
       "      Your browser does not support the <code>video</code> element.\n",
       "    </video>"
      ],
      "text/plain": [
       "<IPython.core.display.Video object>"
      ]
     },
     "execution_count": 11,
     "metadata": {},
     "output_type": "execute_result"
    }
   ],
   "source": [
    "# recreate our agents and run\n",
    "agents = {player: Agent(player, env.state.env_cfg) for player in env.agents}\n",
    "interact(env, agents, 5)"
   ]
  },
  {
   "cell_type": "markdown",
   "metadata": {},
   "source": [
    "Congratz, we have lift off! We got both teams to spawn some factories. With the early phase over, we can now start programming the logic to power the next phase.\n",
    "\n",
    "### Regular Phase\n",
    "\n",
    "The goal of the game is to grow more lichen than your opponent by the end of the 1000 step episode (not including early phase steps). To grow lichen factories must consume water. Moreover, factories passively consume 1 water a turn, and you must ensure at least one factory survives until the end. Whichever team loses all their factories first will automatically lose. \n",
    "\n",
    "To obtain water, robots/units must mine ice from ice tiles (blue on the map) and deliver them back to a factory which then automatically refines ice into water. \n",
    "\n",
    "Moreover, to help us write better code, we will use the provided function `obs_to_game_state` to convert observations from raw dictionaries to interactable python objects. Finally, we will also use a provided `animate` function to easily generate a simple video of the episode and embed it into here without having to upload a replay file to the web visualizer."
   ]
  },
  {
   "cell_type": "markdown",
   "metadata": {},
   "source": [
    "#### Building Robots\n",
    "\n",
    "Only factories can build robots, so for each factory on our team, if there is enough metal and power, we will issue a command to build a new heavy robot.\n",
    "\n",
    "More advanced strategies will be able to efficiently leverage light units as well to collect resources but for simplicity, this tutorial uses heavy robots since they don't need to move as often to collect many resources (albeit very energy inefficient)."
   ]
  },
  {
   "cell_type": "code",
   "execution_count": 12,
   "metadata": {
    "execution": {
     "iopub.execute_input": "2023-01-24T19:44:40.947100Z",
     "iopub.status.busy": "2023-01-24T19:44:40.946428Z",
     "iopub.status.idle": "2023-01-24T19:44:40.954802Z",
     "shell.execute_reply": "2023-01-24T19:44:40.953290Z",
     "shell.execute_reply.started": "2023-01-24T19:44:40.947044Z"
    }
   },
   "outputs": [],
   "source": [
    "from lux.kit import obs_to_game_state, GameState"
   ]
  },
  {
   "cell_type": "code",
   "execution_count": 13,
   "metadata": {
    "execution": {
     "iopub.execute_input": "2023-01-24T19:44:43.860828Z",
     "iopub.status.busy": "2023-01-24T19:44:43.860415Z",
     "iopub.status.idle": "2023-01-24T19:44:43.869445Z",
     "shell.execute_reply": "2023-01-24T19:44:43.867811Z",
     "shell.execute_reply.started": "2023-01-24T19:44:43.860796Z"
    }
   },
   "outputs": [],
   "source": [
    "def act(self, step: int, obs, remainingOverageTime: int = 60):\n",
    "    actions = dict()\n",
    "    game_state: GameState = obs_to_game_state(step, self.env_cfg, obs)\n",
    "    factories = game_state.factories[self.player]\n",
    "    for unit_id, factory in factories.items():\n",
    "        if factory.power >= self.env_cfg.ROBOTS[\"HEAVY\"].POWER_COST and \\\n",
    "        factory.cargo.metal >= self.env_cfg.ROBOTS[\"HEAVY\"].METAL_COST:\n",
    "            actions[unit_id] = factory.build_heavy()\n",
    "    return actions\n",
    "Agent.act = act"
   ]
  },
  {
   "cell_type": "code",
   "execution_count": 14,
   "metadata": {
    "execution": {
     "iopub.execute_input": "2023-01-24T19:44:47.928300Z",
     "iopub.status.busy": "2023-01-24T19:44:47.927887Z",
     "iopub.status.idle": "2023-01-24T19:44:52.501069Z",
     "shell.execute_reply": "2023-01-24T19:44:52.499615Z",
     "shell.execute_reply.started": "2023-01-24T19:44:47.928266Z"
    }
   },
   "outputs": [
    {
     "name": "stderr",
     "output_type": "stream",
     "text": [
      "OpenCV: FFMPEG: tag 0x30395056/'VP90' is not supported with codec id 167 and format 'webm / WebM'\n"
     ]
    },
    {
     "data": {
      "text/html": [
       "<video src=\"wntqGxxjQXkXcWnxzd.webm\" controls  >\n",
       "      Your browser does not support the <code>video</code> element.\n",
       "    </video>"
      ],
      "text/plain": [
       "<IPython.core.display.Video object>"
      ]
     },
     "execution_count": 14,
     "metadata": {},
     "output_type": "execute_result"
    }
   ],
   "source": [
    "# recreate our agents and run\n",
    "agents = {player: Agent(player, env.state.env_cfg) for player in env.agents}\n",
    "interact(env, agents, 25)"
   ]
  },
  {
   "cell_type": "markdown",
   "metadata": {},
   "source": [
    "Robots built, but they're idle! Let's get them to work.\n",
    "\n",
    "#### Moving Robots and Mining\n",
    "\n",
    "We want the robots to find the closest ice tile and mine it.\n",
    "We'll worry about delivering the ice back home later. Let's update our `act` function to add this functionality. We will iterate over all our units and find the closest ice tile. Then we will use a given utility function that gives us the direction that takes us towards the desired ice tile. Lastly, we check if we have enough power to move and can move in that direction and submit that action.\n",
    "\n",
    "Importantly, in this season **units are given action queues (a list of actions). Each time an action queue is given, the unit's old action queue is replaced completely in addition to a small additional action queue submission power cost.**\n",
    "\n",
    "**Moreover, each action can be set to be repeated or not, indicating whether to put the action to the back of the queue once completed** For this tutorial, we will be giving units one action at a time and setting it to not be repeated. For future reference, to reduce power costs you can submit longer action queues and only update the action queue every once in a while."
   ]
  },
  {
   "cell_type": "code",
   "execution_count": 15,
   "metadata": {
    "execution": {
     "iopub.execute_input": "2023-01-24T19:45:08.930205Z",
     "iopub.status.busy": "2023-01-24T19:45:08.929774Z",
     "iopub.status.idle": "2023-01-24T19:45:08.943356Z",
     "shell.execute_reply": "2023-01-24T19:45:08.941948Z",
     "shell.execute_reply.started": "2023-01-24T19:45:08.930170Z"
    }
   },
   "outputs": [],
   "source": [
    "from lux.utils import direction_to\n",
    "import sys\n",
    "def act(self, step: int, obs, remainingOverageTime: int = 60):\n",
    "    actions = dict()\n",
    "    game_state = obs_to_game_state(step, self.env_cfg, obs)\n",
    "    factories = game_state.factories[self.player]\n",
    "    for unit_id, factory in factories.items():\n",
    "        if factory.power >= self.env_cfg.ROBOTS[\"HEAVY\"].POWER_COST and \\\n",
    "        factory.cargo.metal >= self.env_cfg.ROBOTS[\"HEAVY\"].METAL_COST:\n",
    "            actions[unit_id] = factory.build_heavy()\n",
    "            \n",
    "    # iterate over our units and have them mine the closest ice tile\n",
    "    units = game_state.units[self.player]\n",
    "    ice_map = game_state.board.ice # flip the board as it stores by rows then columns\n",
    "    ice_tile_locations = np.argwhere(ice_map == 1) # numpy magic to get the position of every ice tile\n",
    "    for unit_id, unit in units.items():\n",
    "        # compute the distance to each ice tile from this unit and pick the closest\n",
    "        ice_tile_distances = np.mean((ice_tile_locations - unit.pos) ** 2, 1)\n",
    "        closest_ice_tile = ice_tile_locations[np.argmin(ice_tile_distances)]\n",
    "        \n",
    "        # if we have reached the ice tile, start mining if possible\n",
    "        if np.all(closest_ice_tile == unit.pos):\n",
    "            if unit.power >= unit.dig_cost(game_state) + unit.action_queue_cost(game_state):\n",
    "                actions[unit_id] = [unit.dig(repeat=0)]\n",
    "        else:\n",
    "            direction = direction_to(unit.pos, closest_ice_tile)\n",
    "            move_cost = unit.move_cost(game_state, direction)\n",
    "            # check move_cost is not None, meaning that direction is not off the map or blocked\n",
    "            # check if unit has enough power to move in addition to updating the action queue.\n",
    "            if move_cost is not None and unit.power >= move_cost + unit.action_queue_cost(game_state):\n",
    "                actions[unit_id] = [unit.move(direction, repeat=0)]\n",
    "        # since we are using the simple embedded visualizer, we will have to print out details about units\n",
    "        # importantly, note that we print with file=sys.stderr. Printing with anything will cause your agent to fail\n",
    "        if unit.cargo.ice > 50:\n",
    "            print(game_state.real_env_steps, unit, f\"has {unit.cargo.ice} ice\", file=sys.stderr)\n",
    "    return actions\n",
    "Agent.act = act"
   ]
  },
  {
   "cell_type": "code",
   "execution_count": 16,
   "metadata": {
    "execution": {
     "iopub.execute_input": "2023-01-24T19:45:13.579154Z",
     "iopub.status.busy": "2023-01-24T19:45:13.578713Z",
     "iopub.status.idle": "2023-01-24T19:45:20.806279Z",
     "shell.execute_reply": "2023-01-24T19:45:20.804924Z",
     "shell.execute_reply.started": "2023-01-24T19:45:13.579119Z"
    }
   },
   "outputs": [
    {
     "name": "stderr",
     "output_type": "stream",
     "text": [
      "9 [1] unit_12 HEAVY at [11 11] has 60 ice\n",
      "10 [1] unit_12 HEAVY at [11 11] has 80 ice\n",
      "11 [0] unit_10 HEAVY at [22 34] has 60 ice\n",
      "11 [1] unit_12 HEAVY at [11 11] has 100 ice\n",
      "12 [0] unit_8 HEAVY at [21 46] has 60 ice\n",
      "12 [0] unit_9 HEAVY at [41 14] has 60 ice\n",
      "12 [0] unit_10 HEAVY at [22 34] has 60 ice\n",
      "12 [1] unit_12 HEAVY at [11 11] has 100 ice\n",
      "13 [0] unit_8 HEAVY at [21 46] has 60 ice\n",
      "13 [0] unit_9 HEAVY at [41 14] has 80 ice\n",
      "13 [0] unit_10 HEAVY at [22 34] has 80 ice\n",
      "13 [1] unit_12 HEAVY at [11 11] has 100 ice\n",
      "14 [0] unit_8 HEAVY at [21 46] has 60 ice\n",
      "14 [0] unit_9 HEAVY at [41 14] has 80 ice\n",
      "14 [0] unit_10 HEAVY at [22 34] has 80 ice\n",
      "14 [1] unit_12 HEAVY at [11 11] has 100 ice\n",
      "15 [0] unit_8 HEAVY at [21 46] has 60 ice\n",
      "15 [0] unit_9 HEAVY at [41 14] has 80 ice\n",
      "15 [0] unit_10 HEAVY at [22 34] has 80 ice\n",
      "15 [1] unit_12 HEAVY at [11 11] has 100 ice\n",
      "16 [0] unit_8 HEAVY at [21 46] has 80 ice\n",
      "16 [0] unit_9 HEAVY at [41 14] has 100 ice\n",
      "16 [0] unit_10 HEAVY at [22 34] has 80 ice\n",
      "16 [1] unit_12 HEAVY at [11 11] has 100 ice\n",
      "17 [0] unit_8 HEAVY at [21 46] has 80 ice\n",
      "17 [0] unit_9 HEAVY at [41 14] has 100 ice\n",
      "17 [0] unit_10 HEAVY at [22 34] has 80 ice\n",
      "17 [1] unit_12 HEAVY at [11 11] has 120 ice\n",
      "18 [0] unit_8 HEAVY at [21 46] has 80 ice\n",
      "18 [0] unit_9 HEAVY at [41 14] has 100 ice\n",
      "18 [0] unit_10 HEAVY at [22 34] has 80 ice\n",
      "18 [1] unit_12 HEAVY at [11 11] has 120 ice\n",
      "19 [0] unit_8 HEAVY at [21 46] has 80 ice\n",
      "19 [0] unit_9 HEAVY at [41 14] has 100 ice\n",
      "19 [0] unit_10 HEAVY at [22 34] has 80 ice\n",
      "19 [1] unit_12 HEAVY at [11 11] has 120 ice\n",
      "19 [1] unit_14 HEAVY at [22 26] has 60 ice\n",
      "20 [0] unit_8 HEAVY at [21 46] has 80 ice\n",
      "20 [0] unit_9 HEAVY at [41 14] has 100 ice\n",
      "20 [0] unit_10 HEAVY at [22 34] has 100 ice\n",
      "20 [1] unit_12 HEAVY at [11 11] has 120 ice\n",
      "20 [1] unit_14 HEAVY at [22 26] has 60 ice\n",
      "21 [0] unit_8 HEAVY at [21 46] has 80 ice\n",
      "21 [0] unit_9 HEAVY at [41 14] has 100 ice\n",
      "21 [0] unit_10 HEAVY at [22 34] has 100 ice\n",
      "21 [1] unit_12 HEAVY at [11 11] has 120 ice\n",
      "21 [1] unit_14 HEAVY at [22 26] has 60 ice\n",
      "22 [0] unit_8 HEAVY at [21 46] has 80 ice\n",
      "22 [0] unit_9 HEAVY at [41 14] has 100 ice\n",
      "22 [0] unit_10 HEAVY at [22 34] has 100 ice\n",
      "22 [1] unit_12 HEAVY at [11 11] has 120 ice\n",
      "22 [1] unit_14 HEAVY at [22 26] has 60 ice\n",
      "23 [0] unit_8 HEAVY at [21 46] has 100 ice\n",
      "23 [0] unit_9 HEAVY at [41 14] has 120 ice\n",
      "23 [0] unit_10 HEAVY at [22 34] has 100 ice\n",
      "23 [1] unit_12 HEAVY at [11 11] has 120 ice\n",
      "23 [1] unit_14 HEAVY at [22 26] has 60 ice\n",
      "24 [0] unit_8 HEAVY at [21 46] has 100 ice\n",
      "24 [0] unit_9 HEAVY at [41 14] has 120 ice\n",
      "24 [0] unit_10 HEAVY at [22 34] has 100 ice\n",
      "24 [1] unit_12 HEAVY at [11 11] has 140 ice\n",
      "24 [1] unit_14 HEAVY at [22 26] has 60 ice\n",
      "25 [0] unit_8 HEAVY at [21 46] has 100 ice\n",
      "25 [0] unit_9 HEAVY at [41 14] has 120 ice\n",
      "25 [0] unit_10 HEAVY at [22 34] has 100 ice\n",
      "25 [1] unit_12 HEAVY at [11 11] has 140 ice\n",
      "25 [1] unit_14 HEAVY at [22 26] has 60 ice\n",
      "26 [0] unit_8 HEAVY at [21 46] has 100 ice\n",
      "26 [0] unit_9 HEAVY at [41 14] has 120 ice\n",
      "26 [0] unit_10 HEAVY at [22 34] has 100 ice\n",
      "26 [1] unit_12 HEAVY at [11 11] has 140 ice\n",
      "26 [1] unit_14 HEAVY at [22 26] has 80 ice\n",
      "27 [0] unit_8 HEAVY at [21 46] has 100 ice\n",
      "27 [0] unit_9 HEAVY at [41 14] has 120 ice\n",
      "27 [0] unit_10 HEAVY at [22 34] has 120 ice\n",
      "27 [1] unit_12 HEAVY at [11 11] has 140 ice\n",
      "27 [1] unit_14 HEAVY at [22 26] has 80 ice\n",
      "28 [0] unit_8 HEAVY at [21 46] has 100 ice\n",
      "28 [0] unit_9 HEAVY at [41 14] has 120 ice\n",
      "28 [0] unit_10 HEAVY at [22 34] has 120 ice\n",
      "28 [1] unit_12 HEAVY at [11 11] has 140 ice\n",
      "28 [1] unit_14 HEAVY at [22 26] has 80 ice\n",
      "29 [0] unit_8 HEAVY at [21 46] has 100 ice\n",
      "29 [0] unit_9 HEAVY at [41 14] has 120 ice\n",
      "29 [0] unit_10 HEAVY at [22 34] has 120 ice\n",
      "29 [1] unit_12 HEAVY at [11 11] has 140 ice\n",
      "29 [1] unit_14 HEAVY at [22 26] has 80 ice\n",
      "30 [0] unit_8 HEAVY at [21 46] has 120 ice\n",
      "30 [0] unit_9 HEAVY at [41 14] has 140 ice\n",
      "30 [0] unit_10 HEAVY at [22 34] has 120 ice\n",
      "30 [1] unit_12 HEAVY at [11 11] has 140 ice\n",
      "30 [1] unit_14 HEAVY at [22 26] has 80 ice\n",
      "OpenCV: FFMPEG: tag 0x30395056/'VP90' is not supported with codec id 167 and format 'webm / WebM'\n"
     ]
    },
    {
     "data": {
      "text/html": [
       "<video src=\"MvIRpcatjhdOvVIMrZ.webm\" controls  >\n",
       "      Your browser does not support the <code>video</code> element.\n",
       "    </video>"
      ],
      "text/plain": [
       "<IPython.core.display.Video object>"
      ]
     },
     "execution_count": 16,
     "metadata": {},
     "output_type": "execute_result"
    }
   ],
   "source": [
    "# recreate our agents and run\n",
    "agents = {player: Agent(player, env.state.env_cfg) for player in env.agents}\n",
    "interact(env, agents, steps=40)"
   ]
  },
  {
   "cell_type": "markdown",
   "metadata": {},
   "source": [
    "And they're off! The heavy robots have started to move towards the ice tiles and some have begun mining.\n",
    "\n",
    "#### Delivering Resources and Keep Factories Alive\n",
    "We now have ice being mined, but we now need to deliver that back to the factories so they can refine that ice into water and sustain themselves."
   ]
  },
  {
   "cell_type": "code",
   "execution_count": 17,
   "metadata": {
    "execution": {
     "iopub.execute_input": "2023-01-24T19:45:43.271329Z",
     "iopub.status.busy": "2023-01-24T19:45:43.269909Z",
     "iopub.status.idle": "2023-01-24T19:45:43.293813Z",
     "shell.execute_reply": "2023-01-24T19:45:43.292379Z",
     "shell.execute_reply.started": "2023-01-24T19:45:43.271269Z"
    }
   },
   "outputs": [],
   "source": [
    "def act(self, step: int, obs, remainingOverageTime: int = 60):\n",
    "    actions = dict()\n",
    "    game_state = obs_to_game_state(step, self.env_cfg, obs)\n",
    "    factories = game_state.factories[self.player]\n",
    "    factory_tiles, factory_units = [], []\n",
    "    for unit_id, factory in factories.items():\n",
    "        if factory.power >= self.env_cfg.ROBOTS[\"HEAVY\"].POWER_COST and \\\n",
    "        factory.cargo.metal >= self.env_cfg.ROBOTS[\"HEAVY\"].METAL_COST:\n",
    "            actions[unit_id] = factory.build_heavy()\n",
    "        factory_tiles += [factory.pos]\n",
    "        factory_units += [factory]\n",
    "    factory_tiles = np.array(factory_tiles)\n",
    "\n",
    "    units = game_state.units[self.player]\n",
    "    ice_map = game_state.board.ice\n",
    "    ice_tile_locations = np.argwhere(ice_map == 1)\n",
    "    for unit_id, unit in units.items():\n",
    "        \n",
    "        # track the closest factory\n",
    "        closest_factory = None\n",
    "        adjacent_to_factory = False\n",
    "        if len(factory_tiles) > 0:\n",
    "            factory_distances = np.mean((factory_tiles - unit.pos) ** 2, 1)\n",
    "            closest_factory_tile = factory_tiles[np.argmin(factory_distances)]\n",
    "            closest_factory = factory_units[np.argmin(factory_distances)]\n",
    "            adjacent_to_factory = np.mean((closest_factory_tile - unit.pos) ** 2) == 0\n",
    "        \n",
    "            # previous ice mining code\n",
    "            if unit.cargo.ice < 40:\n",
    "                ice_tile_distances = np.mean((ice_tile_locations - unit.pos) ** 2, 1)\n",
    "                closest_ice_tile = ice_tile_locations[np.argmin(ice_tile_distances)]\n",
    "                if np.all(closest_ice_tile == unit.pos):\n",
    "                    if unit.power >= unit.dig_cost(game_state) + unit.action_queue_cost(game_state):\n",
    "                        actions[unit_id] = [unit.dig(repeat=0)]\n",
    "                else:\n",
    "                    direction = direction_to(unit.pos, closest_ice_tile)\n",
    "                    move_cost = unit.move_cost(game_state, direction)\n",
    "                    if move_cost is not None and unit.power >= move_cost + unit.action_queue_cost(game_state):\n",
    "                        actions[unit_id] = [unit.move(direction, repeat=0)]\n",
    "            # else if we have enough ice, we go back to the factory and dump it.\n",
    "            elif unit.cargo.ice >= 40:\n",
    "                direction = direction_to(unit.pos, closest_factory_tile)\n",
    "                if adjacent_to_factory:\n",
    "                    if unit.power >= unit.action_queue_cost(game_state):\n",
    "                        actions[unit_id] = [unit.transfer(direction, 0, unit.cargo.ice, repeat=0)]\n",
    "                else:\n",
    "                    move_cost = unit.move_cost(game_state, direction)\n",
    "                    if move_cost is not None and unit.power >= move_cost + unit.action_queue_cost(game_state):\n",
    "                        actions[unit_id] = [unit.move(direction, repeat=0)]\n",
    "    return actions\n",
    "Agent.act = act"
   ]
  },
  {
   "cell_type": "code",
   "execution_count": 18,
   "metadata": {
    "execution": {
     "iopub.execute_input": "2023-01-24T19:46:04.547457Z",
     "iopub.status.busy": "2023-01-24T19:46:04.546378Z",
     "iopub.status.idle": "2023-01-24T19:46:37.196058Z",
     "shell.execute_reply": "2023-01-24T19:46:37.194690Z",
     "shell.execute_reply.started": "2023-01-24T19:46:04.547421Z"
    }
   },
   "outputs": [
    {
     "name": "stdout",
     "output_type": "stream",
     "text": [
      "65: 1 Units: (unit_13) collided at 22,34 with \u001b[33m[0] unit_10 UnitType.HEAVY at (22, 34)\u001b[0m surviving with 1 power\n",
      "170: player_0 lost all factories\n"
     ]
    },
    {
     "name": "stderr",
     "output_type": "stream",
     "text": [
      "OpenCV: FFMPEG: tag 0x30395056/'VP90' is not supported with codec id 167 and format 'webm / WebM'\n"
     ]
    },
    {
     "data": {
      "text/html": [
       "<video src=\"KqohmcMeVcAighWALB.webm\" controls  >\n",
       "      Your browser does not support the <code>video</code> element.\n",
       "    </video>"
      ],
      "text/plain": [
       "<IPython.core.display.Video object>"
      ]
     },
     "execution_count": 18,
     "metadata": {},
     "output_type": "execute_result"
    }
   ],
   "source": [
    "# recreate our agents and run\n",
    "agents = {player: Agent(player, env.state.env_cfg) for player in env.agents}\n",
    "interact(env, agents, 300)"
   ]
  },
  {
   "cell_type": "markdown",
   "metadata": {},
   "source": [
    "Some factories are surviving for for more than 100 steps thanks to the delivery of additional ice, but more work will need to be done to keep them alive longer.\n",
    "\n",
    "Puting all those pieces together the full starter agent looks like this (and we will save it to agent.py)"
   ]
  },
  {
   "cell_type": "code",
   "execution_count": 19,
   "metadata": {
    "execution": {
     "iopub.execute_input": "2023-01-24T19:47:42.499658Z",
     "iopub.status.busy": "2023-01-24T19:47:42.499176Z",
     "iopub.status.idle": "2023-01-24T19:47:42.510391Z",
     "shell.execute_reply": "2023-01-24T19:47:42.509468Z",
     "shell.execute_reply.started": "2023-01-24T19:47:42.499624Z"
    }
   },
   "outputs": [
    {
     "name": "stdout",
     "output_type": "stream",
     "text": [
      "Overwriting agent.py\n"
     ]
    }
   ],
   "source": [
    "%%writefile agent.py\n",
    "from lux.kit import obs_to_game_state, GameState, EnvConfig\n",
    "from lux.utils import direction_to, my_turn_to_place_factory\n",
    "import numpy as np\n",
    "import sys\n",
    "class Agent():\n",
    "    def __init__(self, player: str, env_cfg: EnvConfig) -> None:\n",
    "        self.player = player\n",
    "        self.opp_player = \"player_1\" if self.player == \"player_0\" else \"player_0\"\n",
    "        np.random.seed(0)\n",
    "        self.env_cfg: EnvConfig = env_cfg\n",
    "\n",
    "    def early_setup(self, step: int, obs, remainingOverageTime: int = 60):\n",
    "        if step == 0:\n",
    "            # bid 0 to not waste resources bidding and declare as the default faction\n",
    "            return dict(faction=\"AlphaStrike\", bid=0)\n",
    "        else:\n",
    "            game_state = obs_to_game_state(step, self.env_cfg, obs)\n",
    "            # factory placement period\n",
    "\n",
    "            # how much water and metal you have in your starting pool to give to new factories\n",
    "            water_left = game_state.teams[self.player].water\n",
    "            metal_left = game_state.teams[self.player].metal\n",
    "\n",
    "            # how many factories you have left to place\n",
    "            factories_to_place = game_state.teams[self.player].factories_to_place\n",
    "            # whether it is your turn to place a factory\n",
    "            my_turn_to_place = my_turn_to_place_factory(game_state.teams[self.player].place_first, step)\n",
    "            if factories_to_place > 0 and my_turn_to_place:\n",
    "                # we will spawn our factory in a random location with 150 metal and water if it is our turn to place\n",
    "                potential_spawns = np.array(list(zip(*np.where(obs[\"board\"][\"valid_spawns_mask\"] == 1))))\n",
    "                spawn_loc = potential_spawns[np.random.randint(0, len(potential_spawns))]\n",
    "                return dict(spawn=spawn_loc, metal=150, water=150)\n",
    "            return dict()\n",
    "\n",
    "    def act(self, step: int, obs, remainingOverageTime: int = 60):\n",
    "        actions = dict()\n",
    "        game_state = obs_to_game_state(step, self.env_cfg, obs)\n",
    "        factories = game_state.factories[self.player]\n",
    "        game_state.teams[self.player].place_first\n",
    "        factory_tiles, factory_units = [], []\n",
    "        for unit_id, factory in factories.items():\n",
    "            if factory.power >= self.env_cfg.ROBOTS[\"HEAVY\"].POWER_COST and \\\n",
    "            factory.cargo.metal >= self.env_cfg.ROBOTS[\"HEAVY\"].METAL_COST:\n",
    "                actions[unit_id] = factory.build_heavy()\n",
    "            if self.env_cfg.max_episode_length - game_state.real_env_steps < 50:\n",
    "                if factory.water_cost(game_state) <= factory.cargo.water:\n",
    "                    actions[unit_id] = factory.water()\n",
    "            factory_tiles += [factory.pos]\n",
    "            factory_units += [factory]\n",
    "        factory_tiles = np.array(factory_tiles)\n",
    "\n",
    "        units = game_state.units[self.player]\n",
    "        ice_map = game_state.board.ice\n",
    "        ice_tile_locations = np.argwhere(ice_map == 1)\n",
    "        for unit_id, unit in units.items():\n",
    "\n",
    "            # track the closest factory\n",
    "            closest_factory = None\n",
    "            adjacent_to_factory = False\n",
    "            if len(factory_tiles) > 0:\n",
    "                factory_distances = np.mean((factory_tiles - unit.pos) ** 2, 1)\n",
    "                closest_factory_tile = factory_tiles[np.argmin(factory_distances)]\n",
    "                closest_factory = factory_units[np.argmin(factory_distances)]\n",
    "                adjacent_to_factory = np.mean((closest_factory_tile - unit.pos) ** 2) == 0\n",
    "\n",
    "                # previous ice mining code\n",
    "                if unit.cargo.ice < 40:\n",
    "                    ice_tile_distances = np.mean((ice_tile_locations - unit.pos) ** 2, 1)\n",
    "                    closest_ice_tile = ice_tile_locations[np.argmin(ice_tile_distances)]\n",
    "                    if np.all(closest_ice_tile == unit.pos):\n",
    "                        if unit.power >= unit.dig_cost(game_state) + unit.action_queue_cost(game_state):\n",
    "                            actions[unit_id] = [unit.dig(repeat=0)]\n",
    "                    else:\n",
    "                        direction = direction_to(unit.pos, closest_ice_tile)\n",
    "                        move_cost = unit.move_cost(game_state, direction)\n",
    "                        if move_cost is not None and unit.power >= move_cost + unit.action_queue_cost(game_state):\n",
    "                            actions[unit_id] = [unit.move(direction, repeat=0)]\n",
    "                # else if we have enough ice, we go back to the factory and dump it.\n",
    "                elif unit.cargo.ice >= 40:\n",
    "                    direction = direction_to(unit.pos, closest_factory_tile)\n",
    "                    if adjacent_to_factory:\n",
    "                        if unit.power >= unit.action_queue_cost(game_state):\n",
    "                            actions[unit_id] = [unit.transfer(direction, 0, unit.cargo.ice, repeat=0)]\n",
    "                    else:\n",
    "                        move_cost = unit.move_cost(game_state, direction)\n",
    "                        if move_cost is not None and unit.power >= move_cost + unit.action_queue_cost(game_state):\n",
    "                            actions[unit_id] = [unit.move(direction, repeat=0)]\n",
    "        return actions"
   ]
  },
  {
   "cell_type": "markdown",
   "metadata": {},
   "source": [
    "## Create a submission\n",
    "Now we need to create a .tar.gz file with main.py (and agent.py) at the top level. We can then upload this!"
   ]
  },
  {
   "cell_type": "code",
   "execution_count": 20,
   "metadata": {
    "execution": {
     "iopub.execute_input": "2023-01-24T19:48:00.139465Z",
     "iopub.status.busy": "2023-01-24T19:48:00.138997Z",
     "iopub.status.idle": "2023-01-24T19:48:01.471618Z",
     "shell.execute_reply": "2023-01-24T19:48:01.469711Z",
     "shell.execute_reply.started": "2023-01-24T19:48:00.139430Z"
    }
   },
   "outputs": [],
   "source": [
    "!tar -czf submission.tar.gz *"
   ]
  },
  {
   "cell_type": "markdown",
   "metadata": {},
   "source": [
    "## Submit\n",
    "Now open the /kaggle/working folder and find submission.tar.gz, download that file, navigate to the \"MySubmissions\" tab in https://www.kaggle.com/c/lux-ai-season-2/ and upload your submission! It should play a validation match against itself and once it succeeds it will be automatically matched against other players' submissions. Newer submissions will be prioritized for games over older ones. Your team is limited in the number of succesful submissions per day so we highly recommend testing your bot locally before submitting."
   ]
  },
  {
   "cell_type": "markdown",
   "metadata": {},
   "source": [
    "## CLI Tool\n",
    "\n",
    "To test your agent without using the python API you can also run"
   ]
  },
  {
   "cell_type": "code",
   "execution_count": 3,
   "metadata": {
    "execution": {
     "iopub.execute_input": "2023-01-24T19:48:30.388487Z",
     "iopub.status.busy": "2023-01-24T19:48:30.388006Z",
     "iopub.status.idle": "2023-01-24T19:48:37.207607Z",
     "shell.execute_reply": "2023-01-24T19:48:37.205935Z",
     "shell.execute_reply.started": "2023-01-24T19:48:30.388447Z"
    }
   },
   "outputs": [
    {
     "name": "stdout",
     "output_type": "stream",
     "text": [
      "pygame 2.1.3 (SDL 2.0.22, Python 3.8.16)\n",
      "Hello from the pygame community. https://www.pygame.org/contribute.html\n",
      "150: player_0 lost all factories\n",
      "2.516268253326416\n"
     ]
    }
   ],
   "source": [
    "!luxai-s2 main.py main.py -v 2 -s 101 -o replay.json"
   ]
  },
  {
   "cell_type": "markdown",
   "metadata": {},
   "source": [
    "which uses a random seed and generates a replay.html file that you can click and watch. Optionally if you specify `-o replay.json` you can upload replay.json to http://s2vis.lux-ai.org/.\n",
    "\n",
    "The CLI tool enables you to easily run episodes between any two agents (python or not) and provides a flexible tournament running tool to evaluate many agents together. Documentation on this tool can be found here: https://github.com/Lux-AI-Challenge/Lux-Design-S2/tree/main/luxai_runner/README.md"
   ]
  },
  {
   "cell_type": "code",
   "execution_count": null,
   "metadata": {
    "execution": {
     "iopub.execute_input": "2023-01-24T19:50:03.841109Z",
     "iopub.status.busy": "2023-01-24T19:50:03.840662Z",
     "iopub.status.idle": "2023-01-24T19:50:03.859821Z",
     "shell.execute_reply": "2023-01-24T19:50:03.858195Z",
     "shell.execute_reply.started": "2023-01-24T19:50:03.841075Z"
    }
   },
   "outputs": [],
   "source": [
    "import IPython\n",
    "IPython.display.HTML(filename='replay.html')"
   ]
  },
  {
   "cell_type": "code",
   "execution_count": null,
   "metadata": {},
   "outputs": [],
   "source": []
  }
 ],
 "metadata": {
  "kernelspec": {
   "display_name": "Python 3 (ipykernel)",
   "language": "python",
   "name": "python3"
  },
  "language_info": {
   "codemirror_mode": {
    "name": "ipython",
    "version": 3
   },
   "file_extension": ".py",
   "mimetype": "text/x-python",
   "name": "python",
   "nbconvert_exporter": "python",
   "pygments_lexer": "ipython3",
   "version": "3.8.16"
  },
  "vscode": {
   "interpreter": {
    "hash": "95c78092eaa97395644b547c35f355f36ca9b4a25bd2b7641e327063759a9b57"
   }
  }
 },
 "nbformat": 4,
 "nbformat_minor": 4
}
