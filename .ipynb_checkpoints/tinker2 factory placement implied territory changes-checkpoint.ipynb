{
 "cells": [
  {
   "cell_type": "code",
   "execution_count": 65,
   "metadata": {
    "execution": {
     "iopub.execute_input": "2023-01-24T19:39:43.846990Z",
     "iopub.status.busy": "2023-01-24T19:39:43.846545Z",
     "iopub.status.idle": "2023-01-24T19:39:45.768603Z",
     "shell.execute_reply": "2023-01-24T19:39:45.767534Z",
     "shell.execute_reply.started": "2023-01-24T19:39:43.846946Z"
    }
   },
   "outputs": [],
   "source": [
    "from luxai_s2.env import LuxAI_S2\n",
    "import matplotlib.pyplot as plt\n",
    "import numpy as np\n",
    "from scipy.ndimage import distance_transform_cdt\n",
    "\n",
    "ore1_vs_ice1_mult = 1/2\n",
    "second_factory_mult = 1/3\n",
    "# commented out below line because territory metric should take care of this when neccessary\n",
    "#factory_border_buffer = 3\n",
    "n_factories = 5\n",
    "N_second_ice_cutoff = 10 #more than N nsquares away from factory center and we don't care about the 2nd ice anymore\n",
    "second_ice_default_penalty = 1.3\n",
    "ice2_vs_ice1_mult = 1/(N_second_ice_cutoff * second_ice_default_penalty + 1) #this way if a factory doesnt have a cutoff and receives the default penalty then it still is only a tie breaker since <1"
   ]
  },
  {
   "cell_type": "code",
   "execution_count": 3,
   "metadata": {},
   "outputs": [],
   "source": [
    "def manhattan_distance(binary_mask):\n",
    "    # Get the distance map from every pixel to the nearest positive pixel\n",
    "    distance_map = distance_transform_cdt(binary_mask, metric='taxicab')\n",
    "    return distance_map"
   ]
  },
  {
   "cell_type": "code",
   "execution_count": 4,
   "metadata": {
    "scrolled": false
   },
   "outputs": [
    {
     "name": "stdout",
     "output_type": "stream",
     "text": [
      "(20, 27) 1 1 1.5\n",
      "(22, 18) 1 1 1.5\n",
      "(22, 19) 1 1 999.0\n",
      "(22, 20) 1 1 999.0\n",
      "(20, 29) 1 1 999.0\n",
      "(19, 30) 1 1 999.0\n",
      "(19, 31) 1 1 999.0\n",
      "(19, 32) 1 1 1.5\n",
      "(20, 28) 1 1 999.0\n",
      "(13, 43) 1 2 2.0\n",
      "[(20, 27), (22, 18), (19, 32), (13, 43)]\n",
      "[1.5, 1.5, 1.5, 2.0]\n",
      "[2, 3, 3, 3]\n",
      "[3, 3, 3, 4]\n",
      "CPU times: total: 109 ms\n",
      "Wall time: 120 ms\n"
     ]
    },
    {
     "data": {
      "text/plain": [
       "-0.16666666666666666"
      ]
     },
     "execution_count": 4,
     "metadata": {},
     "output_type": "execute_result"
    }
   ],
   "source": [
    "%%time\n",
    "#this cell calculates first_vs_second taking into account valid spawns, 1st ice, 1st ore, and factory overlaps\n",
    "\n",
    "\n",
    "\n",
    "env = LuxAI_S2()\n",
    "obs = env.reset(seed=2)\n",
    "#obs = env.reset()\n",
    "#img = env.render(\"rgb_array\", width=480, height=480)\n",
    "#plt.imshow(img)\n",
    "\n",
    "ice = obs['player_0'][\"board\"][\"ice\"]\n",
    "ore = obs['player_0'][\"board\"][\"ore\"]\n",
    "dist_ice = manhattan_distance(1 - ice)\n",
    "dist_ore = manhattan_distance(1 - ore)\n",
    "\n",
    "valid_spawns = obs[\"player_0\"][\"board\"][\"valid_spawns_mask\"] \n",
    "factory_dist_ice, factory_dist_ore = [], []\n",
    "for x in range(48):\n",
    "    for y in range(48):\n",
    "        #if not valid_spawns[x][y] or (x - factory_border_buffer < 0 or y - factory_border_buffer < 0) or (x + factory_border_buffer >= 48 or y + factory_border_buffer >= 48): \n",
    "        if not valid_spawns[x][y]:\n",
    "            factory_dist_ice.append(999)\n",
    "            factory_dist_ore.append(999)\n",
    "            continue\n",
    "        closest_ice = min(\n",
    "            dist_ice[x-1,y-1],\n",
    "            dist_ice[x-1,y],\n",
    "            dist_ice[x-1,y+1],\n",
    "            dist_ice[x,y-1],\n",
    "            #dist_ice[x,y],\n",
    "            dist_ice[x,y+1],\n",
    "            dist_ice[x+1,y-1],\n",
    "            dist_ice[x+1,y],\n",
    "            dist_ice[x+1,y+1]\n",
    "        )\n",
    "        factory_dist_ice.append(closest_ice)\n",
    "        closest_ore = min(\n",
    "            dist_ore[x-1,y-1],\n",
    "            dist_ore[x-1,y],\n",
    "            dist_ore[x-1,y+1],\n",
    "            dist_ore[x,y-1],\n",
    "            #dist_ore[x,y],\n",
    "            dist_ore[x,y+1],\n",
    "            dist_ore[x+1,y-1],\n",
    "            dist_ore[x+1,y],\n",
    "            dist_ore[x+1,y+1]\n",
    "        )\n",
    "        factory_dist_ore.append(closest_ore)\n",
    "    \n",
    "scores = factory_dist_ice + np.array(factory_dist_ore) * ore1_vs_ice1_mult\n",
    "#print(48*48, len(scores))\n",
    "sorted_indexes = np.argsort(scores)\n",
    "#sorted_indexes[:100]\n",
    "\n",
    "no_overlap, nol_scores = [], []\n",
    "count = -1\n",
    "#while len(no_overlap) < 2*n_factories:\n",
    "while len(no_overlap) < 4:\n",
    "    count += 1\n",
    "    i = sorted_indexes[count]\n",
    "    loc = np.unravel_index(i, (48, 48))\n",
    "    score = scores[i]\n",
    "    if len(no_overlap) == 0:\n",
    "        no_overlap.append(loc)\n",
    "        nol_scores.append(score)\n",
    "        continue\n",
    "    if any([np.sum(np.abs(np.array(loc)-np.array(factory))) < 6 for factory in no_overlap]):\n",
    "        scores[i] = 999 #this is only here to show results in the print loop below, once factories start getting placed can mess things up\n",
    "        continue\n",
    "    no_overlap.append(loc)\n",
    "    nol_scores.append(score)\n",
    "    \n",
    "for i in sorted_indexes[:count+1]:\n",
    "    print(np.unravel_index(i, (48, 48)), factory_dist_ice[i], factory_dist_ore[i], scores[i])\n",
    "    #break\n",
    "    \n",
    "print(no_overlap)\n",
    "print(nol_scores)\n",
    "print([dist_ice[x][y] for x,y in no_overlap])\n",
    "print([dist_ore[x][y] for x,y in no_overlap])\n",
    "first_vs_second = (nol_scores[0] - nol_scores[1]) + second_factory_mult * (nol_scores[2] - nol_scores[3])\n",
    "first_vs_second"
   ]
  },
  {
   "cell_type": "code",
   "execution_count": 5,
   "metadata": {},
   "outputs": [
    {
     "data": {
      "text/plain": [
       "(24,\n",
       " [(-3, -3),\n",
       "  (-3, -2),\n",
       "  (-3, -1),\n",
       "  (-3, 0),\n",
       "  (-3, 1),\n",
       "  (-3, 2),\n",
       "  (-3, 3),\n",
       "  (-2, -3),\n",
       "  (-2, 3),\n",
       "  (-1, -3),\n",
       "  (-1, 3),\n",
       "  (0, -3),\n",
       "  (0, 3),\n",
       "  (1, -3),\n",
       "  (1, 3),\n",
       "  (2, -3),\n",
       "  (2, 3),\n",
       "  (3, -3),\n",
       "  (3, -2),\n",
       "  (3, -1),\n",
       "  (3, 0),\n",
       "  (3, 1),\n",
       "  (3, 2),\n",
       "  (3, 3)])"
      ]
     },
     "execution_count": 5,
     "metadata": {},
     "output_type": "execute_result"
    }
   ],
   "source": [
    "def generate_nsquares(point, n):\n",
    "    x, y = point\n",
    "    nsquares = []\n",
    "    for i in range(-n, n+1):\n",
    "        for j in range(-n, n+1):\n",
    "            if abs(i) == n or abs(j) == n:\n",
    "                nsquares.append((x+i, y+j))\n",
    "    return nsquares\n",
    "\n",
    "g = generate_nsquares([0,0], 3)\n",
    "len(g), g"
   ]
  },
  {
   "cell_type": "code",
   "execution_count": 6,
   "metadata": {},
   "outputs": [
    {
     "data": {
      "text/plain": [
       "[([0, 0], [1, 1]), ([0, 0], [2, 2]), ([1, 1], [2, 2])]"
      ]
     },
     "execution_count": 6,
     "metadata": {},
     "output_type": "execute_result"
    }
   ],
   "source": [
    "import itertools\n",
    "\n",
    "def generate_pairings(lst):\n",
    "    pairings = []\n",
    "    for i, j in itertools.combinations(lst, 2):\n",
    "        pairings.append((i,j))\n",
    "    return pairings\n",
    "generate_pairings([[0,0],[1,1],[2,2]])"
   ]
  },
  {
   "cell_type": "code",
   "execution_count": 7,
   "metadata": {},
   "outputs": [
    {
     "data": {
      "text/plain": [
       "(4, 9)"
      ]
     },
     "execution_count": 7,
     "metadata": {},
     "output_type": "execute_result"
    }
   ],
   "source": [
    "#10, 12) (12, 9) [9, 15]\n",
    "\n",
    "np.sum(np.abs(np.array([10,12])-np.array([9,15]))), np.sum(np.abs(np.array([12,9])-np.array([9,15])))"
   ]
  },
  {
   "cell_type": "code",
   "execution_count": 69,
   "metadata": {},
   "outputs": [
    {
     "name": "stdout",
     "output_type": "stream",
     "text": [
      "[(22, 19), (26, 31), (24, 25), (20, 15)]\n",
      "[2.0, 2.142857142857143, 2.357142857142857, 2.4285714285714284]\n",
      "[3, 6, 2, 4]\n",
      "ice and ore dist: [3, 3, 3, 2] [2, 3, 3, 3]\n",
      "CPU times: total: 188 ms\n",
      "Wall time: 234 ms\n"
     ]
    },
    {
     "data": {
      "text/plain": [
       "-0.16666666666666652"
      ]
     },
     "execution_count": 69,
     "metadata": {},
     "output_type": "execute_result"
    }
   ],
   "source": [
    "%%time\n",
    "#this cell calculates first_vs_second taking into account valid spawns, 1st ice, 1st ore, and factory overlaps\n",
    "# and also takes into account distance to 2nd ice, only for 2nd ice where manhattan distance > 2 away from 1st ice\n",
    "\n",
    "\n",
    "\n",
    "env = LuxAI_S2()\n",
    "obs = env.reset(seed=2)\n",
    "obs = env.reset()\n",
    "#img = env.render(\"rgb_array\", width=480, height=480)\n",
    "#plt.imshow(img)\n",
    "\n",
    "board_ice = obs['player_0'][\"board\"][\"ice\"]\n",
    "board_ore = obs['player_0'][\"board\"][\"ore\"]\n",
    "dist_ice = manhattan_distance(1 - board_ice)\n",
    "dist_ore = manhattan_distance(1 - board_ore)\n",
    "\n",
    "valid_spawns = obs[\"player_0\"][\"board\"][\"valid_spawns_mask\"] \n",
    "factory_dist_ice, factory_dist_ore = [], []\n",
    "for x in range(48):\n",
    "    for y in range(48):\n",
    "        #if not valid_spawns[x][y] or (x - factory_border_buffer < 0 or y - factory_border_buffer < 0) or (x + factory_border_buffer >= 48 or y + factory_border_buffer >= 48): \n",
    "        if not valid_spawns[x][y]:\n",
    "            factory_dist_ice.append(999)\n",
    "            factory_dist_ore.append(999)\n",
    "            continue\n",
    "        closest_ice = min([dist_ice[_x, _y] for _x, _y in generate_nsquares([x,y], 1)])\n",
    "        factory_dist_ice.append(closest_ice)\n",
    "        \n",
    "        closest_ore = min([dist_ore[_x, _y] for _x, _y in generate_nsquares([x,y], 1)])\n",
    "        factory_dist_ore.append(closest_ore)    \n",
    "    \n",
    "scores = factory_dist_ice + np.array(factory_dist_ore) * ore1_vs_ice1_mult\n",
    "#print(48*48, len(scores))\n",
    "sorted_indexes_1 = np.argsort(scores)\n",
    "#sorted_indexes[:100]\n",
    "\n",
    "\n",
    "less = 80 #number of locations we will do computations for 2nd closest ice\n",
    "factory_dist_ice2 = []\n",
    "for i in sorted_indexes_1[:less]:\n",
    "    x,y = np.unravel_index(i, (48, 48))\n",
    "    dist_ice1 = dist_ice[x][y]\n",
    "    dist_ice2 = None\n",
    "    ltoet_n_away = [] # ltoet <=\n",
    "    for n in range(0, N_second_ice_cutoff): #if second ice is more than N nsquares away it kinda doesnt matter, can just add some constant penalty\n",
    "        if n < 2: #these are factory tiles\n",
    "            continue\n",
    "        for _x,_y in generate_nsquares([x,y], n):\n",
    "            if (_x < 0 or _y < 0) or (_x >= 48 or _y >= 48): \n",
    "                continue\n",
    "            if board_ice[_x][_y] == 1:\n",
    "                ltoet_n_away.append((_x,_y))\n",
    "        if len(ltoet_n_away) >= 2:\n",
    "            for ice1, ice2 in generate_pairings(ltoet_n_away):\n",
    "                if np.sum(np.abs(np.array(ice1)-np.array(ice2))) > 2:\n",
    "                    if np.sum(np.abs(np.array(ice1)-np.array([x,y]))) == dist_ice1: #our first ice must be the closest ice(s)\n",
    "                        dist_ice2 = np.sum(np.abs( np.array(ice2)-np.array([x,y]) ))\n",
    "                        assert dist_ice1 <= dist_ice2\n",
    "    if not dist_ice2:\n",
    "        dist_ice2 = N_second_ice_cutoff * second_ice_default_penalty\n",
    "    factory_dist_ice2.append(dist_ice2)\n",
    "    \n",
    "for i in sorted_indexes_1[less:]:\n",
    "    dist_ice2 = N_second_ice_cutoff * second_ice_default_penalty\n",
    "    factory_dist_ice2.append(dist_ice2)\n",
    "assert len(factory_dist_ice2) == len(scores)\n",
    "#print(factory_dist_ice2[:20])\n",
    "\n",
    "\n",
    "#update scores to reflect distances to ice2\n",
    "for _ in range(48*48):\n",
    "    i = sorted_indexes_1[_] #because we indexed factory_dist_ice2 differently so we dont have to compute for all 48*48\n",
    "    #print(scores[i], factory_dist_ice2[_])\n",
    "    scores[i] += factory_dist_ice2[_] * ice2_vs_ice1_mult\n",
    "#sorted_indexes_2 to reflect new scores accounting for ice2\n",
    "sorted_indexes_2 = np.argsort(scores) \n",
    "\n",
    "no_overlap, nol_scores = [], [] \n",
    "corresponding_si1_index = [] #corresponding to sorted_indexes_1\n",
    "count = -1\n",
    "#while len(no_overlap) < 2*n_factories:\n",
    "while len(no_overlap) < 4:\n",
    "    count += 1\n",
    "    i = sorted_indexes_2[count]\n",
    "    loc = np.unravel_index(i, (48, 48))\n",
    "    score = scores[i]\n",
    "    if len(no_overlap) == 0:\n",
    "        no_overlap.append(loc)\n",
    "        nol_scores.append(score)\n",
    "        flattened_i = loc[0]*48 + loc[1]\n",
    "        corresponding_si1_index.append(list(sorted_indexes_1).index(flattened_i))\n",
    "        continue\n",
    "    if any([np.sum(np.abs(np.array(loc)-np.array(factory))) < 6 for factory in no_overlap]):\n",
    "        scores[i] = 999 #this is only here to show results in the print loop below, once factories start getting placed can mess things up\n",
    "        continue\n",
    "    no_overlap.append(loc)\n",
    "    nol_scores.append(score)\n",
    "    flattened_i = loc[0]*48 + loc[1]\n",
    "    corresponding_si1_index.append(list(sorted_indexes_1).index(flattened_i))\n",
    "    \n",
    "for i in sorted_indexes_2[:count+1]:\n",
    "    #print(np.unravel_index(i, (48, 48)), factory_dist_ice[i], factory_dist_ore[i], scores[i])\n",
    "    break\n",
    "    \n",
    "print(no_overlap)\n",
    "print(nol_scores)\n",
    "print(corresponding_si1_index) #IMPORTANT: these are rarely over 50, so we can pretty comfortably set the 'less' var above to 80\n",
    "print('ice and ore dist:', [dist_ice[x][y] for x,y in no_overlap], [dist_ore[x][y] for x,y in no_overlap])\n",
    "first_vs_second = (nol_scores[0] - nol_scores[1]) + second_factory_mult * (nol_scores[2] - nol_scores[3])\n",
    "first_vs_second"
   ]
  },
  {
   "cell_type": "code",
   "execution_count": null,
   "metadata": {},
   "outputs": [],
   "source": [
    "#sorted_indexes corresponds to flattened indexes 0 -- 2304\n",
    "#if we have loc (19, 30) this corresponds to the Xth value in flatten location which corresponds to some ith value of sorted_ind\n",
    "\n",
    "for x,y in no_overlap:\n",
    "    flattened_i = x*48 + y\n",
    "    print(list(sorted_indexes).index(flattened_i))"
   ]
  },
  {
   "cell_type": "code",
   "execution_count": null,
   "metadata": {},
   "outputs": [],
   "source": [
    "#metric for placing factory: 'intended territory'\n",
    "\n",
    "#pseudocode: proceeding through argsorted ice-ore distances, a factory location has N intended territory defined as size\n",
    "    # of contested tiles w rubble <= 35\n",
    "\n",
    "#rubble=0 tile at distance n from factory center loc has value (46+46)/(n-1) --- (since n >= 2 for non factory tiles)\n",
    "#disregard all eight factory tiles (i+-1/0, j+-1/0),\n",
    "#\n"
   ]
  },
  {
   "cell_type": "code",
   "execution_count": null,
   "metadata": {},
   "outputs": [],
   "source": [
    "# judge new positions by change in total board state if we were to build there"
   ]
  },
  {
   "cell_type": "code",
   "execution_count": null,
   "metadata": {},
   "outputs": [],
   "source": []
  },
  {
   "cell_type": "code",
   "execution_count": null,
   "metadata": {},
   "outputs": [],
   "source": []
  },
  {
   "cell_type": "code",
   "execution_count": null,
   "metadata": {},
   "outputs": [],
   "source": []
  },
  {
   "cell_type": "code",
   "execution_count": null,
   "metadata": {},
   "outputs": [],
   "source": [
    "from tqdm import tqdm"
   ]
  },
  {
   "cell_type": "code",
   "execution_count": null,
   "metadata": {},
   "outputs": [],
   "source": [
    "for _ in range(len(valid_spawns)):\n",
    "    print(_)\n",
    "    print(valid_spawns[_])"
   ]
  },
  {
   "cell_type": "code",
   "execution_count": null,
   "metadata": {},
   "outputs": [],
   "source": []
  },
  {
   "cell_type": "code",
   "execution_count": null,
   "metadata": {},
   "outputs": [],
   "source": []
  },
  {
   "cell_type": "code",
   "execution_count": null,
   "metadata": {},
   "outputs": [],
   "source": [
    "rubble = obs['player_0']['board']['rubble']\n",
    "rubble.shape\n",
    "conv_size = 8\n",
    "y = rubble.reshape(conv_size,conv_size, int(rubble.shape[0]/conv_size), int(rubble.shape[1]/conv_size))\n",
    "y"
   ]
  },
  {
   "cell_type": "code",
   "execution_count": null,
   "metadata": {},
   "outputs": [],
   "source": [
    "rubble_all = []\n",
    "rubble_means = []\n",
    "mountain_count, cave_count = 0,0\n",
    "for n in np.arange(300,800):\n",
    "    obs = env.reset(seed=n)\n",
    "    m = np.mean(obs['player_0']['board']['rubble'])\n",
    "    if m < 35:\n",
    "        mountain_count += 1\n",
    "    else:\n",
    "        cave_count += 1\n",
    "    rubble_means.append(m)\n",
    "plt.hist(rubble_means, bins=50)\n",
    "plt.show()\n",
    "mountain_count, cave_count"
   ]
  },
  {
   "cell_type": "code",
   "execution_count": null,
   "metadata": {
    "execution": {
     "iopub.execute_input": "2023-01-24T19:40:40.163980Z",
     "iopub.status.busy": "2023-01-24T19:40:40.163528Z",
     "iopub.status.idle": "2023-01-24T19:40:40.178043Z",
     "shell.execute_reply": "2023-01-24T19:40:40.176597Z",
     "shell.execute_reply.started": "2023-01-24T19:40:40.163946Z"
    }
   },
   "outputs": [],
   "source": [
    "def animate(imgs, _return=True):\n",
    "    # using cv2 to generate videos as moviepy doesn't work on kaggle notebooks\n",
    "    import cv2\n",
    "    import os\n",
    "    import string\n",
    "    import random\n",
    "    video_name = ''.join(random.choice(string.ascii_letters) for i in range(18))+'.webm'\n",
    "    height, width, layers = imgs[0].shape\n",
    "    fourcc = cv2.VideoWriter_fourcc(*'VP90')\n",
    "    video = cv2.VideoWriter(video_name, fourcc, 10, (width,height))\n",
    "\n",
    "    for img in imgs:\n",
    "        img = cv2.cvtColor(img, cv2.COLOR_BGR2RGB)\n",
    "        video.write(img)\n",
    "    video.release()\n",
    "    if _return:\n",
    "        from IPython.display import Video\n",
    "        return Video(video_name)\n",
    "def interact(env, agents, steps):\n",
    "    # reset our env\n",
    "    obs = env.reset(seed=41)\n",
    "    np.random.seed(0)\n",
    "    imgs = []\n",
    "    step = 0\n",
    "    # Note that as the environment has two phases, we also keep track a value called \n",
    "    # `real_env_steps` in the environment state. The first phase ends once `real_env_steps` is 0 and used below\n",
    "\n",
    "    # iterate until phase 1 ends\n",
    "    while env.state.real_env_steps < 0:\n",
    "        if step >= steps: break\n",
    "        actions = {}\n",
    "        for player in env.agents:\n",
    "            o = obs[player]\n",
    "            a = agents[player].early_setup(step, o)\n",
    "            actions[player] = a\n",
    "        step += 1\n",
    "        obs, rewards, dones, infos = env.step(actions)\n",
    "        imgs += [env.render(\"rgb_array\", width=400, height=400)]\n",
    "    done = False\n",
    "    while not done:\n",
    "        if step >= steps: break\n",
    "        actions = {}\n",
    "        for player in env.agents:\n",
    "            o = obs[player]\n",
    "            a = agents[player].act(step, o)\n",
    "            actions[player] = a\n",
    "        step += 1\n",
    "        obs, rewards, dones, infos = env.step(actions)\n",
    "        imgs += [env.render(\"rgb_array\", width=400, height=400)]\n",
    "        done = dones[\"player_0\"] and dones[\"player_1\"]\n",
    "    return animate(imgs)"
   ]
  },
  {
   "cell_type": "code",
   "execution_count": null,
   "metadata": {
    "execution": {
     "iopub.execute_input": "2023-01-24T19:44:47.928300Z",
     "iopub.status.busy": "2023-01-24T19:44:47.927887Z",
     "iopub.status.idle": "2023-01-24T19:44:52.501069Z",
     "shell.execute_reply": "2023-01-24T19:44:52.499615Z",
     "shell.execute_reply.started": "2023-01-24T19:44:47.928266Z"
    }
   },
   "outputs": [],
   "source": [
    "# recreate our agents and run\n",
    "agents = {player: Agent(player, env.state.env_cfg) for player in env.agents}\n",
    "interact(env, agents, 25)"
   ]
  },
  {
   "cell_type": "markdown",
   "metadata": {},
   "source": [
    "Some factories are surviving for for more than 100 steps thanks to the delivery of additional ice, but more work will need to be done to keep them alive longer.\n",
    "\n",
    "Puting all those pieces together the full starter agent looks like this (and we will save it to agent.py)"
   ]
  },
  {
   "cell_type": "code",
   "execution_count": null,
   "metadata": {
    "execution": {
     "iopub.execute_input": "2023-01-24T19:47:42.499658Z",
     "iopub.status.busy": "2023-01-24T19:47:42.499176Z",
     "iopub.status.idle": "2023-01-24T19:47:42.510391Z",
     "shell.execute_reply": "2023-01-24T19:47:42.509468Z",
     "shell.execute_reply.started": "2023-01-24T19:47:42.499624Z"
    }
   },
   "outputs": [],
   "source": [
    "#%%writefile test_agent6.py\n",
    "from lux.kit import obs_to_game_state, GameState, EnvConfig\n",
    "from lux.utils import direction_to, my_turn_to_place_factory\n",
    "import numpy as np\n",
    "import sys\n",
    "class TestAgent_0():\n",
    "    def __init__(self, player: str, env_cfg: EnvConfig) -> None:\n",
    "        self.player = player\n",
    "        self.opp_player = \"player_1\" if self.player == \"player_0\" else \"player_0\"\n",
    "        np.random.seed(0)\n",
    "        self.env_cfg: EnvConfig = env_cfg\n",
    "\n",
    "    def early_setup(self, step: int, obs, remainingOverageTime: int = 60):\n",
    "        #print('asdfasdf')\n",
    "        if step == 0:\n",
    "            # bid 0 to not waste resources bidding and declare as the default faction\n",
    "            return dict(faction=\"AlphaStrike\", bid=0)\n",
    "        else:\n",
    "            game_state = obs_to_game_state(step, self.env_cfg, obs)\n",
    "            # factory placement period\n",
    "\n",
    "            # how much water and metal you have in your starting pool to give to new factories\n",
    "            water_left = game_state.teams[self.player].water\n",
    "            metal_left = game_state.teams[self.player].metal\n",
    "\n",
    "            # how many factories you have left to place\n",
    "            factories_to_place = game_state.teams[self.player].factories_to_place\n",
    "            # whether it is your turn to place a factory\n",
    "            my_turn_to_place = my_turn_to_place_factory(game_state.teams[self.player].place_first, step)\n",
    "            if factories_to_place > 0 and my_turn_to_place:\n",
    "                # we will spawn our factory in a random location with 150 metal and water if it is our turn to place\n",
    "                potential_spawns = np.array(list(zip(*np.where(obs[\"board\"][\"valid_spawns_mask\"] == 1))))\n",
    "                spawn_loc = potential_spawns[np.random.randint(0, len(potential_spawns))]\n",
    "                return dict(spawn=spawn_loc, metal=150, water=150)\n",
    "            return dict()\n",
    "\n",
    "    def act(self, step: int, obs, remainingOverageTime: int = 60):\n",
    "        #print('asdf')\n",
    "        actions = dict()\n",
    "        game_state = obs_to_game_state(step, self.env_cfg, obs)\n",
    "        factories = game_state.factories[self.player]\n",
    "        \n",
    "        #print('pla')\n",
    "        #display(game_state.factories[self.player])\n",
    "        #print('opp')\n",
    "        #display(game_state.factories[self.opp_player])\n",
    "        \n",
    "        game_state.teams[self.player].place_first\n",
    "        factory_tiles, factory_units = [], []\n",
    "        for unit_id, factory in factories.items():\n",
    "            if factory.power >= self.env_cfg.ROBOTS[\"HEAVY\"].POWER_COST and \\\n",
    "            factory.cargo.metal >= self.env_cfg.ROBOTS[\"HEAVY\"].METAL_COST:\n",
    "                actions[unit_id] = factory.build_heavy()\n",
    "            if self.env_cfg.max_episode_length - game_state.real_env_steps < 50:\n",
    "                if factory.water_cost(game_state) <= factory.cargo.water:\n",
    "                    actions[unit_id] = factory.water()\n",
    "            factory_tiles += [factory.pos]\n",
    "            factory_units += [factory]\n",
    "        factory_tiles = np.array(factory_tiles)\n",
    "\n",
    "        units = game_state.units[self.player]\n",
    "        ice_map = game_state.board.ice\n",
    "        ice_tile_locations = np.argwhere(ice_map == 1)\n",
    "        for unit_id, unit in units.items():\n",
    "\n",
    "            # track the closest factory\n",
    "            closest_factory = None\n",
    "            adjacent_to_factory = False\n",
    "            if len(factory_tiles) > 0:\n",
    "                factory_distances = np.mean((factory_tiles - unit.pos) ** 2, 1)\n",
    "                closest_factory_tile = factory_tiles[np.argmin(factory_distances)]\n",
    "                closest_factory = factory_units[np.argmin(factory_distances)]\n",
    "                adjacent_to_factory = np.mean((closest_factory_tile - unit.pos) ** 2) == 0\n",
    "\n",
    "                # previous ice mining code\n",
    "                if unit.cargo.ice < 40:\n",
    "                    ice_tile_distances = np.mean((ice_tile_locations - unit.pos) ** 2, 1)\n",
    "                    closest_ice_tile = ice_tile_locations[np.argmin(ice_tile_distances)]\n",
    "                    if np.all(closest_ice_tile == unit.pos):\n",
    "                        if unit.power >= unit.dig_cost(game_state) + unit.action_queue_cost(game_state):\n",
    "                            actions[unit_id] = [unit.dig(repeat=0)]\n",
    "                    else:\n",
    "                        direction = direction_to(unit.pos, closest_ice_tile)\n",
    "                        move_cost = unit.move_cost(game_state, direction)\n",
    "                        if move_cost is not None and unit.power >= move_cost + unit.action_queue_cost(game_state):\n",
    "                            actions[unit_id] = [unit.move(direction, repeat=0)]\n",
    "                # else if we have enough ice, we go back to the factory and dump it.\n",
    "                elif unit.cargo.ice >= 40:\n",
    "                    direction = direction_to(unit.pos, closest_factory_tile)\n",
    "                    if adjacent_to_factory:\n",
    "                        if unit.power >= unit.action_queue_cost(game_state):\n",
    "                            actions[unit_id] = [unit.transfer(direction, 0, unit.cargo.ice, repeat=0)]\n",
    "                    else:\n",
    "                        move_cost = unit.move_cost(game_state, direction)\n",
    "                        if move_cost is not None and unit.power >= move_cost + unit.action_queue_cost(game_state):\n",
    "                            actions[unit_id] = [unit.move(direction, repeat=0)]\n",
    "        return actions"
   ]
  },
  {
   "cell_type": "code",
   "execution_count": null,
   "metadata": {},
   "outputs": [],
   "source": [
    "env.agents"
   ]
  },
  {
   "cell_type": "code",
   "execution_count": null,
   "metadata": {},
   "outputs": [],
   "source": []
  },
  {
   "cell_type": "code",
   "execution_count": null,
   "metadata": {},
   "outputs": [],
   "source": [
    "#ctrlf\n",
    "\n",
    "#from test_agent6 import TestAgent\n",
    "\n",
    "\n",
    "agents = {\n",
    "    env.agents[0]: TestAgent_0(env.agents[0], env.state.env_cfg),\n",
    "    env.agents[1]: TestAgent_1(env.agents[1], env.state.env_cfg),\n",
    "}\n",
    "interact(env, agents, 10)"
   ]
  },
  {
   "cell_type": "markdown",
   "metadata": {},
   "source": [
    "## Create a submission\n",
    "Now we need to create a .tar.gz file with main.py (and agent.py) at the top level. We can then upload this!"
   ]
  },
  {
   "cell_type": "code",
   "execution_count": null,
   "metadata": {
    "execution": {
     "iopub.execute_input": "2023-01-24T19:48:00.139465Z",
     "iopub.status.busy": "2023-01-24T19:48:00.138997Z",
     "iopub.status.idle": "2023-01-24T19:48:01.471618Z",
     "shell.execute_reply": "2023-01-24T19:48:01.469711Z",
     "shell.execute_reply.started": "2023-01-24T19:48:00.139430Z"
    }
   },
   "outputs": [],
   "source": [
    "!tar -czf submission.tar.gz *"
   ]
  },
  {
   "cell_type": "markdown",
   "metadata": {},
   "source": [
    "## Submit\n",
    "Now open the /kaggle/working folder and find submission.tar.gz, download that file, navigate to the \"MySubmissions\" tab in https://www.kaggle.com/c/lux-ai-season-2/ and upload your submission! It should play a validation match against itself and once it succeeds it will be automatically matched against other players' submissions. Newer submissions will be prioritized for games over older ones. Your team is limited in the number of succesful submissions per day so we highly recommend testing your bot locally before submitting."
   ]
  },
  {
   "cell_type": "markdown",
   "metadata": {},
   "source": [
    "## CLI Tool\n",
    "\n",
    "To test your agent without using the python API you can also run"
   ]
  },
  {
   "cell_type": "code",
   "execution_count": null,
   "metadata": {
    "execution": {
     "iopub.execute_input": "2023-01-24T19:48:30.388487Z",
     "iopub.status.busy": "2023-01-24T19:48:30.388006Z",
     "iopub.status.idle": "2023-01-24T19:48:37.207607Z",
     "shell.execute_reply": "2023-01-24T19:48:37.205935Z",
     "shell.execute_reply.started": "2023-01-24T19:48:30.388447Z"
    }
   },
   "outputs": [],
   "source": [
    "!luxai-s2 main.py main.py -v 2 -s 101 -o replay.json"
   ]
  },
  {
   "cell_type": "markdown",
   "metadata": {},
   "source": [
    "which uses a random seed and generates a replay.html file that you can click and watch. Optionally if you specify `-o replay.json` you can upload replay.json to http://s2vis.lux-ai.org/.\n",
    "\n",
    "The CLI tool enables you to easily run episodes between any two agents (python or not) and provides a flexible tournament running tool to evaluate many agents together. Documentation on this tool can be found here: https://github.com/Lux-AI-Challenge/Lux-Design-S2/tree/main/luxai_runner/README.md"
   ]
  },
  {
   "cell_type": "code",
   "execution_count": null,
   "metadata": {
    "execution": {
     "iopub.execute_input": "2023-01-24T19:50:03.841109Z",
     "iopub.status.busy": "2023-01-24T19:50:03.840662Z",
     "iopub.status.idle": "2023-01-24T19:50:03.859821Z",
     "shell.execute_reply": "2023-01-24T19:50:03.858195Z",
     "shell.execute_reply.started": "2023-01-24T19:50:03.841075Z"
    }
   },
   "outputs": [],
   "source": [
    "import IPython\n",
    "IPython.display.HTML(filename='replay.html')"
   ]
  },
  {
   "cell_type": "markdown",
   "metadata": {},
   "source": [
    "And they're off! The heavy robots have started to move towards the ice tiles and some have begun mining.\n",
    "\n",
    "#### Delivering Resources and Keep Factories Alive\n",
    "We now have ice being mined, but we now need to deliver that back to the factories so they can refine that ice into water and sustain themselves."
   ]
  },
  {
   "cell_type": "code",
   "execution_count": null,
   "metadata": {
    "execution": {
     "iopub.execute_input": "2023-01-24T19:45:43.271329Z",
     "iopub.status.busy": "2023-01-24T19:45:43.269909Z",
     "iopub.status.idle": "2023-01-24T19:45:43.293813Z",
     "shell.execute_reply": "2023-01-24T19:45:43.292379Z",
     "shell.execute_reply.started": "2023-01-24T19:45:43.271269Z"
    }
   },
   "outputs": [],
   "source": [
    "def act(self, step: int, obs, remainingOverageTime: int = 60):\n",
    "    actions = dict()\n",
    "    game_state = obs_to_game_state(step, self.env_cfg, obs)\n",
    "    factories = game_state.factories[self.player]\n",
    "    factory_tiles, factory_units = [], []\n",
    "    for unit_id, factory in factories.items():\n",
    "        if factory.power >= self.env_cfg.ROBOTS[\"HEAVY\"].POWER_COST and \\\n",
    "        factory.cargo.metal >= self.env_cfg.ROBOTS[\"HEAVY\"].METAL_COST:\n",
    "            actions[unit_id] = factory.build_heavy()\n",
    "        factory_tiles += [factory.pos]\n",
    "        factory_units += [factory]\n",
    "    factory_tiles = np.array(factory_tiles)\n",
    "\n",
    "    units = game_state.units[self.player]\n",
    "    ice_map = game_state.board.ice\n",
    "    ice_tile_locations = np.argwhere(ice_map == 1)\n",
    "    for unit_id, unit in units.items():\n",
    "        \n",
    "        # track the closest factory\n",
    "        closest_factory = None\n",
    "        adjacent_to_factory = False\n",
    "        if len(factory_tiles) > 0:\n",
    "            factory_distances = np.mean((factory_tiles - unit.pos) ** 2, 1)\n",
    "            closest_factory_tile = factory_tiles[np.argmin(factory_distances)]\n",
    "            closest_factory = factory_units[np.argmin(factory_distances)]\n",
    "            adjacent_to_factory = np.mean((closest_factory_tile - unit.pos) ** 2) == 0\n",
    "        \n",
    "            # previous ice mining code\n",
    "            if unit.cargo.ice < 40:\n",
    "                ice_tile_distances = np.mean((ice_tile_locations - unit.pos) ** 2, 1)\n",
    "                closest_ice_tile = ice_tile_locations[np.argmin(ice_tile_distances)]\n",
    "                if np.all(closest_ice_tile == unit.pos):\n",
    "                    if unit.power >= unit.dig_cost(game_state) + unit.action_queue_cost(game_state):\n",
    "                        actions[unit_id] = [unit.dig(repeat=0)]\n",
    "                else:\n",
    "                    direction = direction_to(unit.pos, closest_ice_tile)\n",
    "                    move_cost = unit.move_cost(game_state, direction)\n",
    "                    if move_cost is not None and unit.power >= move_cost + unit.action_queue_cost(game_state):\n",
    "                        actions[unit_id] = [unit.move(direction, repeat=0)]\n",
    "            # else if we have enough ice, we go back to the factory and dump it.\n",
    "            elif unit.cargo.ice >= 40:\n",
    "                direction = direction_to(unit.pos, closest_factory_tile)\n",
    "                if adjacent_to_factory:\n",
    "                    if unit.power >= unit.action_queue_cost(game_state):\n",
    "                        actions[unit_id] = [unit.transfer(direction, 0, unit.cargo.ice, repeat=0)]\n",
    "                else:\n",
    "                    move_cost = unit.move_cost(game_state, direction)\n",
    "                    if move_cost is not None and unit.power >= move_cost + unit.action_queue_cost(game_state):\n",
    "                        actions[unit_id] = [unit.move(direction, repeat=0)]\n",
    "    return actions\n",
    "Agent.act = act"
   ]
  },
  {
   "cell_type": "code",
   "execution_count": null,
   "metadata": {
    "execution": {
     "iopub.execute_input": "2023-01-24T19:46:04.547457Z",
     "iopub.status.busy": "2023-01-24T19:46:04.546378Z",
     "iopub.status.idle": "2023-01-24T19:46:37.196058Z",
     "shell.execute_reply": "2023-01-24T19:46:37.194690Z",
     "shell.execute_reply.started": "2023-01-24T19:46:04.547421Z"
    }
   },
   "outputs": [],
   "source": [
    "# recreate our agents and run\n",
    "agents = {player: Agent(player, env.state.env_cfg) for player in env.agents}\n",
    "interact(env, agents, 300)"
   ]
  },
  {
   "cell_type": "code",
   "execution_count": null,
   "metadata": {},
   "outputs": [],
   "source": [
    "img = env.render(\"rgb_array\", width=640, height=640)\n",
    "plt.imshow(img)"
   ]
  },
  {
   "cell_type": "code",
   "execution_count": null,
   "metadata": {},
   "outputs": [],
   "source": []
  }
 ],
 "metadata": {
  "kernelspec": {
   "display_name": "Python 3 (ipykernel)",
   "language": "python",
   "name": "python3"
  },
  "language_info": {
   "codemirror_mode": {
    "name": "ipython",
    "version": 3
   },
   "file_extension": ".py",
   "mimetype": "text/x-python",
   "name": "python",
   "nbconvert_exporter": "python",
   "pygments_lexer": "ipython3",
   "version": "3.8.16"
  },
  "vscode": {
   "interpreter": {
    "hash": "95c78092eaa97395644b547c35f355f36ca9b4a25bd2b7641e327063759a9b57"
   }
  }
 },
 "nbformat": 4,
 "nbformat_minor": 4
}
