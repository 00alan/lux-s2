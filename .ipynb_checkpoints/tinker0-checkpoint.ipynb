{
 "cells": [
  {
   "cell_type": "code",
   "execution_count": 1,
   "metadata": {},
   "outputs": [],
   "source": [
    "#messing with stuff\n"
   ]
  },
  {
   "cell_type": "code",
   "execution_count": 31,
   "metadata": {
    "execution": {
     "iopub.execute_input": "2023-01-24T19:39:43.846990Z",
     "iopub.status.busy": "2023-01-24T19:39:43.846545Z",
     "iopub.status.idle": "2023-01-24T19:39:45.768603Z",
     "shell.execute_reply": "2023-01-24T19:39:45.767534Z",
     "shell.execute_reply.started": "2023-01-24T19:39:43.846946Z"
    }
   },
   "outputs": [],
   "source": [
    "from luxai_s2.env import LuxAI_S2\n",
    "import matplotlib.pyplot as plt\n",
    "import numpy as np\n",
    "\n",
    "ore_mult_1 = 0.8\n",
    "second_fact_mult = 1/2"
   ]
  },
  {
   "cell_type": "code",
   "execution_count": 11,
   "metadata": {
    "scrolled": true
   },
   "outputs": [
    {
     "name": "stdout",
     "output_type": "stream",
     "text": [
      "21.41623263888889\n",
      "\n",
      "\n",
      "9 3 True\n",
      "2 4 5.599440055994401\n",
      "\n",
      "10 40 True\n",
      "2 4\n",
      "\n",
      "9 40 True\n",
      "3 3\n",
      "\n",
      "8 43 True\n",
      "3 3\n"
     ]
    },
    {
     "data": {
      "image/png": "[encoded data removed]",
      "text/plain": [
       "<Figure size 640x480 with 1 Axes>"
      ]
     },
     "metadata": {},
     "output_type": "display_data"
    }
   ],
   "source": [
    "env = LuxAI_S2()\n",
    "obs = env.reset(seed=3)\n",
    "img = env.render(\"rgb_array\", width=480, height=480)\n",
    "plt.imshow(img)\n",
    "print(np.mean(obs['player_0']['board']['rubble']))\n",
    "print()\n",
    "\n",
    "from scipy.ndimage import distance_transform_cdt\n",
    "def manhattan_distance(binary_mask):\n",
    "    # Get the distance map from every pixel to the nearest positive pixel\n",
    "    distance_map = distance_transform_cdt(binary_mask, metric='taxicab')\n",
    "    return distance_map\n",
    "\n",
    "ice = obs['player_0'][\"board\"][\"ice\"]\n",
    "ore = obs['player_0'][\"board\"][\"ore\"]\n",
    "\n",
    "dist_ice = manhattan_distance(1 - ice)\n",
    "dist_ore = manhattan_distance(1 - ore)\n",
    "\n",
    "score = dist_ice + dist_ore * 0.9 # *0.9 just to make it tie breaker, 2 from ice and 3 from ore beats 3 from ice and 2 from ore\n",
    "\n",
    "valid_spawns = obs[\"player_0\"][\"board\"][\"valid_spawns_mask\"] #not masking out any zeros because there are none; can't be distance zero to both ice and ore\n",
    "valid_spawns = np.ones(valid_spawns.shape) * valid_spawns + 0.0001\n",
    "score = score / valid_spawns\n",
    "sorted_indexes = np.argsort(score, axis=None)\n",
    "\n",
    "first = np.unravel_index(sorted_indexes[0], (48, 48))\n",
    "second = np.unravel_index(sorted_indexes[1], (48, 48))\n",
    "third = np.unravel_index(sorted_indexes[2], (48, 48))\n",
    "fourth = np.unravel_index(sorted_indexes[3], (48, 48))\n",
    "\n",
    "x,y = first\n",
    "print()\n",
    "print(x, y, obs[\"player_0\"][\"board\"][\"valid_spawns_mask\"][x][y])\n",
    "print(dist_ice[x][y], dist_ore[x][y], score[x][y])\n",
    "\n",
    "x,y = second\n",
    "print()\n",
    "print(x, y, obs[\"player_0\"][\"board\"][\"valid_spawns_mask\"][x][y])\n",
    "print(dist_ice[x][y], dist_ore[x][y])\n",
    "\n",
    "x,y = third\n",
    "print()\n",
    "print(x, y, obs[\"player_0\"][\"board\"][\"valid_spawns_mask\"][x][y])\n",
    "print(dist_ice[x][y], dist_ore[x][y])\n",
    "\n",
    "x,y = fourth\n",
    "print()\n",
    "print(x, y, obs[\"player_0\"][\"board\"][\"valid_spawns_mask\"][x][y])\n",
    "print(dist_ice[x][y], dist_ore[x][y])"
   ]
  },
  {
   "cell_type": "code",
   "execution_count": 18,
   "metadata": {},
   "outputs": [
    {
     "name": "stdout",
     "output_type": "stream",
     "text": [
      "[(9, 3), (10, 40), (9, 40), (8, 43), (10, 3), (7, 43), (11, 3), (7, 5), (46, 14), (8, 5), (46, 15), (45, 14), (7, 6), (44, 13), (45, 15), (44, 14), (8, 6), (46, 16), (7, 7), (8, 7), (44, 15), (46, 17), (1, 42), (10, 44), (12, 42), (3, 44), (9, 2), (2, 42), (12, 41), (9, 4), (4, 44), (10, 39), (9, 44), (11, 40), (1, 41), (3, 43), (3, 42), (1, 40), (2, 41), (8, 44), (10, 4), (10, 2), (4, 43), (9, 39), (4, 42), (3, 41), (2, 40), (6, 43), (11, 4), (5, 42), (11, 2), (7, 44), (1, 39), (8, 39), (7, 39), (2, 39), (4, 41), (5, 41), (43, 11), (6, 5), (43, 12), (5, 44), (43, 13), (6, 6), (9, 5), (6, 7), (5, 43), (43, 14), (6, 44), (9, 6), (6, 8), (43, 15), (9, 7), (46, 18), (6, 39), (6, 9), (5, 3), (7, 1), (3, 45), (8, 1), (10, 45), (13, 42), (42, 11), (12, 43), (11, 44), (13, 41), (12, 40), (4, 45), (9, 1), (9, 45), (42, 12), (41, 11), (11, 39), (10, 38), (40, 11), (10, 37), (42, 13), (10, 5), (10, 1), (41, 12), (9, 38), (8, 45), (10, 36), (41, 13), (9, 37), (11, 1), (39, 11), (11, 5), (8, 38), (7, 45), (40, 12), (1, 38), (2, 38), (10, 35), (40, 13), (7, 38), (39, 12), (12, 5), (12, 1), (9, 36), (8, 37), (38, 11), (8, 36), (13, 1), (13, 5), (10, 34), (39, 13), (15, 3), (38, 5), (36, 3), (34, 23), (37, 5), (44, 9), (35, 3), (38, 6), (34, 22), (43, 10), (5, 4), (36, 4), (35, 23), (34, 3), (36, 5), (38, 7), (36, 23), (37, 6), (35, 22), (35, 4), (5, 5), (38, 8), (34, 4), (5, 6), (36, 22), (36, 6), (37, 23), (37, 7), (35, 5), (5, 45), (5, 7), (37, 22), (10, 6), (38, 9), (34, 5), (6, 45), (35, 6), (38, 23), (37, 8), (42, 14), (36, 7), (38, 10), (10, 7), (42, 15), (38, 22), (37, 9), (39, 23), (46, 19), (36, 8), (35, 7), (5, 8), (34, 6), (45, 19), (39, 22), (40, 23), (7, 11), (42, 16), (36, 9), (10, 8), (35, 8), (37, 10), (34, 7), (6, 10), (6, 38), (5, 9), (10, 9), (8, 11), (42, 17), (34, 8), (44, 19), (40, 22), (39, 5), (36, 2)]\n",
      "[1, 1, 1, 1, 2, 2, 3, 1, 1, 1, 2, 1, 2, 1, 2, 2, 2, 3, 3, 3, 3, 4, 1, 1, 1, 1, 1, 1, 1, 1, 2, 2, 1, 1, 2, 1, 2, 3, 2, 2, 2, 2, 2, 2, 3, 3, 3, 3, 3, 4, 3, 3, 4, 3, 4, 4, 4, 4, 1, 1, 1, 3, 2, 2, 2, 3, 3, 3, 4, 3, 4, 4, 4, 5, 5, 5, 1, 1, 1, 1, 2, 2, 2, 1, 1, 2, 2, 2, 2, 2, 2, 3, 2, 3, 4, 4, 3, 3, 3, 3, 3, 3, 5, 4, 4, 4, 5, 4, 4, 4, 4, 5, 5, 6, 5, 5, 5, 5, 5, 5, 5, 6, 6, 6, 6, 7, 6, 7, 1, 1, 1, 1, 1, 2, 2, 1, 1, 1, 1, 2, 3, 2, 3, 3, 2, 2, 2, 2, 4, 3, 3, 3, 3, 4, 3, 3, 3, 4, 4, 4, 5, 4, 4, 4, 5, 4, 4, 4, 6, 5, 5, 5, 5, 6, 6, 5, 5, 5, 5, 6, 6, 7, 7, 6, 6, 6, 6, 6, 6, 6, 6, 6, 7, 7, 7, 7, 7, 7, 1, 1]\n",
      "[3, 2, 1, 1, 2, 1, 1, 3, 3, 3, 2, 2, 2, 3, 1, 2, 2, 1, 1, 1, 1, 1, 4, 4, 4, 4, 3, 3, 4, 3, 4, 3, 3, 3, 3, 3, 2, 2, 2, 2, 2, 2, 3, 2, 2, 1, 1, 1, 1, 1, 1, 2, 2, 1, 1, 1, 1, 1, 5, 4, 4, 3, 3, 3, 3, 2, 2, 2, 2, 2, 1, 1, 1, 1, 1, 1, 7, 6, 5, 5, 5, 5, 5, 5, 5, 5, 4, 5, 4, 4, 4, 4, 4, 4, 3, 3, 4, 3, 3, 3, 3, 3, 2, 3, 2, 2, 2, 2, 2, 3, 2, 2, 1, 1, 2, 2, 1, 1, 1, 1, 2, 1, 1, 1, 1, 1, 1, 1, 7, 7, 7, 6, 7, 6, 6, 7, 6, 6, 6, 6, 6, 5, 5, 5, 5, 6, 5, 5, 4, 5, 4, 5, 4, 4, 4, 4, 4, 3, 4, 3, 3, 4, 3, 3, 3, 3, 3, 3, 2, 2, 2, 3, 2, 2, 2, 2, 2, 2, 3, 1, 2, 1, 1, 1, 1, 1, 1, 1, 2, 1, 1, 2, 1, 1, 1, 1, 1, 1, 8, 8]\n",
      "[3.4 2.6 1.8 1.8 3.6 2.8 3.8 3.4 3.4 3.4 3.6 2.6 3.6 3.4 2.8 3.6 3.6 3.8\n",
      " 3.8 3.8 3.8 4.8 4.2 4.2 4.2 4.2 3.4 3.4 4.2 3.4 5.2 4.4 3.4 3.4 4.4 3.4\n",
      " 3.6 4.6 3.6 3.6 3.6 3.6 4.4 3.6 4.6 3.8 3.8 3.8 3.8 4.8 3.8 4.6 5.6 3.8\n",
      " 4.8 4.8 4.8 4.8 5.  4.2 4.2 5.4 4.4 4.4 4.4 4.6 4.6 4.6 5.6 4.6 4.8 4.8\n",
      " 4.8 5.8 5.8 5.8 6.6 5.8 5.  5.  6.  6.  6.  5.  5.  6.  5.2 6.  5.2 5.2\n",
      " 5.2 6.2 5.2 6.2 6.4 6.4 6.2 5.4 5.4 5.4 5.4 5.4 6.6 6.4 5.6 5.6 6.6 5.6\n",
      " 5.6 6.4 5.6 6.6 5.8 6.8 6.6 6.6 5.8 5.8 5.8 5.8 6.6 6.8 6.8 6.8 6.8 7.8\n",
      " 6.8 7.8 6.6 6.6 6.6 5.8 6.6 6.8 6.8 6.6 5.8 5.8 5.8 6.8 7.8 6.  7.  7.\n",
      " 6.  6.8 6.  6.  7.2 7.  6.2 7.  6.2 7.2 6.2 6.2 6.2 6.4 7.2 6.4 7.4 7.2\n",
      " 6.4 6.4 7.4 6.4 6.4 6.4 7.6 6.6 6.6 7.4 6.6 7.6 7.6 6.6 6.6 6.6 7.4 6.8\n",
      " 7.6 7.8 7.8 6.8 6.8 6.8 6.8 6.8 7.6 6.8 6.8 7.6 7.8 7.8 7.8 7.8 7.8 7.8\n",
      " 7.4 7.4]\n"
     ]
    }
   ],
   "source": [
    "#problem is the solution above computes distance from factory centers, not all 8 factory border tiles. resolve:\n",
    "less = 200\n",
    "topN =  [np.unravel_index(index, (48, 48)) for index in sorted_indexes[:less]]\n",
    "print(topN)   \n",
    "    \n",
    "dist_ice = manhattan_distance(1 - ice)\n",
    "dist_ore = manhattan_distance(1 - ore)   \n",
    "\n",
    "dist_ice_2, dist_ore_2 = [], []\n",
    "for x,y in topN:\n",
    "    closest_ice = min(\n",
    "        dist_ice[x-1,y-1],\n",
    "        dist_ice[x-1,y],\n",
    "        dist_ice[x-1,y+1],\n",
    "        dist_ice[x,y-1],\n",
    "        #dist_ice[x,y],\n",
    "        dist_ice[x,y+1],\n",
    "        dist_ice[x+1,y-1],\n",
    "        dist_ice[x+1,y],\n",
    "        dist_ice[x+1,y+1]\n",
    "    )\n",
    "    dist_ice_2.append(closest_ice)\n",
    "    \n",
    "    closest_ore = min(\n",
    "        dist_ore[x-1,y-1],\n",
    "        dist_ore[x-1,y],\n",
    "        dist_ore[x-1,y+1],\n",
    "        dist_ore[x,y-1],\n",
    "        #dist_ore[x,y],\n",
    "        dist_ore[x,y+1],\n",
    "        dist_ore[x+1,y-1],\n",
    "        dist_ore[x+1,y],\n",
    "        dist_ore[x+1,y+1]\n",
    "    )\n",
    "    dist_ore_2.append(closest_ore)\n",
    "        \n",
    "print(dist_ice_2)\n",
    "print(dist_ore_2)\n",
    "score = dist_ice_2 + np.array(dist_ore_2) * ore_mult_1\n",
    "print(score)"
   ]
  },
  {
   "cell_type": "code",
   "execution_count": 30,
   "metadata": {},
   "outputs": [
    {
     "data": {
      "text/plain": [
       "(array([  2,   3,   1,  11,   5,  14,   0,  29,  32,  33,  35,  13,  26,\n",
       "         27,   9,   8,   7,  36,  40,  43,  38,  39,  41,   4,  10,  12,\n",
       "         15,  16,  45,  47,  17,   6,  46,  50,  19,  20,  53,  48,  18,\n",
       "         22,  59,  60,  23,  25,  28,  24,  42,  62,  63,  34,  31,  64,\n",
       "         69,  66,  67,  37,  44,  65,  51,  71,  56,  57,  55,  54,  21,\n",
       "         49,  70,  72,  79,  78,  83,  58,  84,  92,  90,  89,  88,  30,\n",
       "         86, 100,  97,  98, 101,  99,  61, 110, 107, 105, 104,  52,  68,\n",
       "        108, 112, 116, 117, 118,  73, 119,  74,  75, 136, 137, 138,  77,\n",
       "        131,  82, 144, 146, 147,  81, 141,  87,  80,  85, 155, 150, 152,\n",
       "        154, 156,  93,  91,  96, 166,  94,  95, 103, 167, 109, 162, 157,\n",
       "        159, 163, 165, 172, 175, 176, 177, 169, 170, 111, 106, 102, 120,\n",
       "        114, 115,  76, 132, 130, 129, 128, 135, 113, 185, 121, 122, 186,\n",
       "        123, 124, 183, 187, 190, 126, 184, 179, 189, 133, 139, 134, 145,\n",
       "        151, 149, 143, 142, 158, 153, 148, 161, 198, 199, 171, 164, 160,\n",
       "        178, 174, 180, 173, 168, 188, 191, 197, 196, 195, 194, 125, 192,\n",
       "        127, 182, 181, 193, 140], dtype=int64),\n",
       " array([1.8, 1.8, 2.6, 2.6, 2.8, 2.8, 3.4, 3.4, 3.4, 3.4, 3.4, 3.4, 3.4,\n",
       "        3.4, 3.4, 3.4, 3.4, 3.6, 3.6, 3.6, 3.6, 3.6, 3.6, 3.6, 3.6, 3.6,\n",
       "        3.6, 3.6, 3.8, 3.8, 3.8, 3.8, 3.8, 3.8, 3.8, 3.8, 3.8, 3.8, 3.8,\n",
       "        4.2, 4.2, 4.2, 4.2, 4.2, 4.2, 4.2, 4.4, 4.4, 4.4, 4.4, 4.4, 4.4,\n",
       "        4.6, 4.6, 4.6, 4.6, 4.6, 4.6, 4.6, 4.8, 4.8, 4.8, 4.8, 4.8, 4.8,\n",
       "        4.8, 4.8, 4.8, 5. , 5. , 5. , 5. , 5. , 5.2, 5.2, 5.2, 5.2, 5.2,\n",
       "        5.2, 5.4, 5.4, 5.4, 5.4, 5.4, 5.4, 5.6, 5.6, 5.6, 5.6, 5.6, 5.6,\n",
       "        5.6, 5.8, 5.8, 5.8, 5.8, 5.8, 5.8, 5.8, 5.8, 5.8, 5.8, 5.8, 5.8,\n",
       "        5.8, 6. , 6. , 6. , 6. , 6. , 6. , 6. , 6. , 6. , 6.2, 6.2, 6.2,\n",
       "        6.2, 6.2, 6.2, 6.2, 6.2, 6.4, 6.4, 6.4, 6.4, 6.4, 6.4, 6.4, 6.4,\n",
       "        6.4, 6.4, 6.4, 6.6, 6.6, 6.6, 6.6, 6.6, 6.6, 6.6, 6.6, 6.6, 6.6,\n",
       "        6.6, 6.6, 6.6, 6.6, 6.6, 6.6, 6.6, 6.6, 6.8, 6.8, 6.8, 6.8, 6.8,\n",
       "        6.8, 6.8, 6.8, 6.8, 6.8, 6.8, 6.8, 6.8, 6.8, 6.8, 6.8, 6.8, 6.8,\n",
       "        7. , 7. , 7. , 7. , 7.2, 7.2, 7.2, 7.2, 7.4, 7.4, 7.4, 7.4, 7.4,\n",
       "        7.4, 7.6, 7.6, 7.6, 7.6, 7.6, 7.6, 7.8, 7.8, 7.8, 7.8, 7.8, 7.8,\n",
       "        7.8, 7.8, 7.8, 7.8, 7.8]))"
      ]
     },
     "execution_count": 30,
     "metadata": {},
     "output_type": "execute_result"
    }
   ],
   "source": [
    "sorted_indexes = np.argsort(score)\n",
    "sorted_scores = score[sorted_indexes]\n",
    "sorted_indexes, sorted_scores"
   ]
  },
  {
   "cell_type": "code",
   "execution_count": 29,
   "metadata": {},
   "outputs": [
    {
     "data": {
      "text/plain": [
       "array([[ 9, 40],\n",
       "       [ 8, 43],\n",
       "       [10, 40]], dtype=int64)"
      ]
     },
     "execution_count": 29,
     "metadata": {},
     "output_type": "execute_result"
    }
   ],
   "source": [
    "#this is the top factory locations with set ore_multiplier and only accounting for the nearest single ice and ore tiles\n",
    "top_factory_spots = np.array(topN)[sorted_indexes]\n",
    "top_factory_spots[:3]"
   ]
  },
  {
   "cell_type": "code",
   "execution_count": 32,
   "metadata": {},
   "outputs": [],
   "source": [
    "first_vs_second = (sorted_scores[0] - sorted_scores[1]) + second_fact_mult * (sorted_scores[2] - sorted_scores[3])\n",
    "first_vs_second"
   ]
  },
  {
   "cell_type": "code",
   "execution_count": null,
   "metadata": {},
   "outputs": [],
   "source": [
    "#metric for placing factory: 'intended territory'\n",
    "\n",
    "#pseudocode: proceeding through argsorted ice-ore distances, a factory location has N intended territory defined as size\n",
    "    # of contested tiles w rubble <= 35\n",
    "\n",
    "#rubble=0 tile at distance n from factory center loc has value (46+46)/(n-1) --- (since n >= 2 for non factory tiles)\n",
    "#disregard all eight factory tiles (i+-1/0, j+-1/0),\n",
    "#\n",
    "\n",
    "\n"
   ]
  },
  {
   "cell_type": "code",
   "execution_count": null,
   "metadata": {},
   "outputs": [],
   "source": []
  },
  {
   "cell_type": "code",
   "execution_count": null,
   "metadata": {},
   "outputs": [],
   "source": []
  },
  {
   "cell_type": "code",
   "execution_count": null,
   "metadata": {},
   "outputs": [],
   "source": []
  },
  {
   "cell_type": "code",
   "execution_count": null,
   "metadata": {},
   "outputs": [],
   "source": []
  },
  {
   "cell_type": "code",
   "execution_count": null,
   "metadata": {},
   "outputs": [],
   "source": [
    "from tqdm import tqdm"
   ]
  },
  {
   "cell_type": "code",
   "execution_count": null,
   "metadata": {},
   "outputs": [],
   "source": [
    "for _ in range(len(valid_spawns)):\n",
    "    print(_)\n",
    "    print(valid_spawns[_])"
   ]
  },
  {
   "cell_type": "code",
   "execution_count": null,
   "metadata": {},
   "outputs": [],
   "source": []
  },
  {
   "cell_type": "code",
   "execution_count": null,
   "metadata": {},
   "outputs": [],
   "source": []
  },
  {
   "cell_type": "code",
   "execution_count": null,
   "metadata": {},
   "outputs": [],
   "source": [
    "rubble = obs['player_0']['board']['rubble']\n",
    "rubble.shape\n",
    "conv_size = 8\n",
    "y = rubble.reshape(conv_size,conv_size, int(rubble.shape[0]/conv_size), int(rubble.shape[1]/conv_size))\n",
    "y"
   ]
  },
  {
   "cell_type": "code",
   "execution_count": null,
   "metadata": {},
   "outputs": [],
   "source": [
    "rubble_all = []\n",
    "rubble_means = []\n",
    "mountain_count, cave_count = 0,0\n",
    "for n in np.arange(300,800):\n",
    "    obs = env.reset(seed=n)\n",
    "    m = np.mean(obs['player_0']['board']['rubble'])\n",
    "    if m < 35:\n",
    "        mountain_count += 1\n",
    "    else:\n",
    "        cave_count += 1\n",
    "    rubble_means.append(m)\n",
    "plt.hist(rubble_means, bins=50)\n",
    "plt.show()\n",
    "mountain_count, cave_count"
   ]
  },
  {
   "cell_type": "code",
   "execution_count": null,
   "metadata": {
    "execution": {
     "iopub.execute_input": "2023-01-24T19:40:40.163980Z",
     "iopub.status.busy": "2023-01-24T19:40:40.163528Z",
     "iopub.status.idle": "2023-01-24T19:40:40.178043Z",
     "shell.execute_reply": "2023-01-24T19:40:40.176597Z",
     "shell.execute_reply.started": "2023-01-24T19:40:40.163946Z"
    }
   },
   "outputs": [],
   "source": [
    "def animate(imgs, _return=True):\n",
    "    # using cv2 to generate videos as moviepy doesn't work on kaggle notebooks\n",
    "    import cv2\n",
    "    import os\n",
    "    import string\n",
    "    import random\n",
    "    video_name = ''.join(random.choice(string.ascii_letters) for i in range(18))+'.webm'\n",
    "    height, width, layers = imgs[0].shape\n",
    "    fourcc = cv2.VideoWriter_fourcc(*'VP90')\n",
    "    video = cv2.VideoWriter(video_name, fourcc, 10, (width,height))\n",
    "\n",
    "    for img in imgs:\n",
    "        img = cv2.cvtColor(img, cv2.COLOR_BGR2RGB)\n",
    "        video.write(img)\n",
    "    video.release()\n",
    "    if _return:\n",
    "        from IPython.display import Video\n",
    "        return Video(video_name)\n",
    "def interact(env, agents, steps):\n",
    "    # reset our env\n",
    "    obs = env.reset(seed=41)\n",
    "    np.random.seed(0)\n",
    "    imgs = []\n",
    "    step = 0\n",
    "    # Note that as the environment has two phases, we also keep track a value called \n",
    "    # `real_env_steps` in the environment state. The first phase ends once `real_env_steps` is 0 and used below\n",
    "\n",
    "    # iterate until phase 1 ends\n",
    "    while env.state.real_env_steps < 0:\n",
    "        if step >= steps: break\n",
    "        actions = {}\n",
    "        for player in env.agents:\n",
    "            o = obs[player]\n",
    "            a = agents[player].early_setup(step, o)\n",
    "            actions[player] = a\n",
    "        step += 1\n",
    "        obs, rewards, dones, infos = env.step(actions)\n",
    "        imgs += [env.render(\"rgb_array\", width=400, height=400)]\n",
    "    done = False\n",
    "    while not done:\n",
    "        if step >= steps: break\n",
    "        actions = {}\n",
    "        for player in env.agents:\n",
    "            o = obs[player]\n",
    "            a = agents[player].act(step, o)\n",
    "            actions[player] = a\n",
    "        step += 1\n",
    "        obs, rewards, dones, infos = env.step(actions)\n",
    "        imgs += [env.render(\"rgb_array\", width=400, height=400)]\n",
    "        done = dones[\"player_0\"] and dones[\"player_1\"]\n",
    "    return animate(imgs)"
   ]
  },
  {
   "cell_type": "code",
   "execution_count": null,
   "metadata": {
    "execution": {
     "iopub.execute_input": "2023-01-24T19:44:47.928300Z",
     "iopub.status.busy": "2023-01-24T19:44:47.927887Z",
     "iopub.status.idle": "2023-01-24T19:44:52.501069Z",
     "shell.execute_reply": "2023-01-24T19:44:52.499615Z",
     "shell.execute_reply.started": "2023-01-24T19:44:47.928266Z"
    }
   },
   "outputs": [],
   "source": [
    "# recreate our agents and run\n",
    "agents = {player: Agent(player, env.state.env_cfg) for player in env.agents}\n",
    "interact(env, agents, 25)"
   ]
  },
  {
   "cell_type": "markdown",
   "metadata": {},
   "source": [
    "Some factories are surviving for for more than 100 steps thanks to the delivery of additional ice, but more work will need to be done to keep them alive longer.\n",
    "\n",
    "Puting all those pieces together the full starter agent looks like this (and we will save it to agent.py)"
   ]
  },
  {
   "cell_type": "code",
   "execution_count": null,
   "metadata": {
    "execution": {
     "iopub.execute_input": "2023-01-24T19:47:42.499658Z",
     "iopub.status.busy": "2023-01-24T19:47:42.499176Z",
     "iopub.status.idle": "2023-01-24T19:47:42.510391Z",
     "shell.execute_reply": "2023-01-24T19:47:42.509468Z",
     "shell.execute_reply.started": "2023-01-24T19:47:42.499624Z"
    }
   },
   "outputs": [],
   "source": [
    "#%%writefile test_agent6.py\n",
    "from lux.kit import obs_to_game_state, GameState, EnvConfig\n",
    "from lux.utils import direction_to, my_turn_to_place_factory\n",
    "import numpy as np\n",
    "import sys\n",
    "class TestAgent_0():\n",
    "    def __init__(self, player: str, env_cfg: EnvConfig) -> None:\n",
    "        self.player = player\n",
    "        self.opp_player = \"player_1\" if self.player == \"player_0\" else \"player_0\"\n",
    "        np.random.seed(0)\n",
    "        self.env_cfg: EnvConfig = env_cfg\n",
    "\n",
    "    def early_setup(self, step: int, obs, remainingOverageTime: int = 60):\n",
    "        #print('asdfasdf')\n",
    "        if step == 0:\n",
    "            # bid 0 to not waste resources bidding and declare as the default faction\n",
    "            return dict(faction=\"AlphaStrike\", bid=0)\n",
    "        else:\n",
    "            game_state = obs_to_game_state(step, self.env_cfg, obs)\n",
    "            # factory placement period\n",
    "\n",
    "            # how much water and metal you have in your starting pool to give to new factories\n",
    "            water_left = game_state.teams[self.player].water\n",
    "            metal_left = game_state.teams[self.player].metal\n",
    "\n",
    "            # how many factories you have left to place\n",
    "            factories_to_place = game_state.teams[self.player].factories_to_place\n",
    "            # whether it is your turn to place a factory\n",
    "            my_turn_to_place = my_turn_to_place_factory(game_state.teams[self.player].place_first, step)\n",
    "            if factories_to_place > 0 and my_turn_to_place:\n",
    "                # we will spawn our factory in a random location with 150 metal and water if it is our turn to place\n",
    "                potential_spawns = np.array(list(zip(*np.where(obs[\"board\"][\"valid_spawns_mask\"] == 1))))\n",
    "                spawn_loc = potential_spawns[np.random.randint(0, len(potential_spawns))]\n",
    "                return dict(spawn=spawn_loc, metal=150, water=150)\n",
    "            return dict()\n",
    "\n",
    "    def act(self, step: int, obs, remainingOverageTime: int = 60):\n",
    "        #print('asdf')\n",
    "        actions = dict()\n",
    "        game_state = obs_to_game_state(step, self.env_cfg, obs)\n",
    "        factories = game_state.factories[self.player]\n",
    "        \n",
    "        #print('pla')\n",
    "        #display(game_state.factories[self.player])\n",
    "        #print('opp')\n",
    "        #display(game_state.factories[self.opp_player])\n",
    "        \n",
    "        game_state.teams[self.player].place_first\n",
    "        factory_tiles, factory_units = [], []\n",
    "        for unit_id, factory in factories.items():\n",
    "            if factory.power >= self.env_cfg.ROBOTS[\"HEAVY\"].POWER_COST and \\\n",
    "            factory.cargo.metal >= self.env_cfg.ROBOTS[\"HEAVY\"].METAL_COST:\n",
    "                actions[unit_id] = factory.build_heavy()\n",
    "            if self.env_cfg.max_episode_length - game_state.real_env_steps < 50:\n",
    "                if factory.water_cost(game_state) <= factory.cargo.water:\n",
    "                    actions[unit_id] = factory.water()\n",
    "            factory_tiles += [factory.pos]\n",
    "            factory_units += [factory]\n",
    "        factory_tiles = np.array(factory_tiles)\n",
    "\n",
    "        units = game_state.units[self.player]\n",
    "        ice_map = game_state.board.ice\n",
    "        ice_tile_locations = np.argwhere(ice_map == 1)\n",
    "        for unit_id, unit in units.items():\n",
    "\n",
    "            # track the closest factory\n",
    "            closest_factory = None\n",
    "            adjacent_to_factory = False\n",
    "            if len(factory_tiles) > 0:\n",
    "                factory_distances = np.mean((factory_tiles - unit.pos) ** 2, 1)\n",
    "                closest_factory_tile = factory_tiles[np.argmin(factory_distances)]\n",
    "                closest_factory = factory_units[np.argmin(factory_distances)]\n",
    "                adjacent_to_factory = np.mean((closest_factory_tile - unit.pos) ** 2) == 0\n",
    "\n",
    "                # previous ice mining code\n",
    "                if unit.cargo.ice < 40:\n",
    "                    ice_tile_distances = np.mean((ice_tile_locations - unit.pos) ** 2, 1)\n",
    "                    closest_ice_tile = ice_tile_locations[np.argmin(ice_tile_distances)]\n",
    "                    if np.all(closest_ice_tile == unit.pos):\n",
    "                        if unit.power >= unit.dig_cost(game_state) + unit.action_queue_cost(game_state):\n",
    "                            actions[unit_id] = [unit.dig(repeat=0)]\n",
    "                    else:\n",
    "                        direction = direction_to(unit.pos, closest_ice_tile)\n",
    "                        move_cost = unit.move_cost(game_state, direction)\n",
    "                        if move_cost is not None and unit.power >= move_cost + unit.action_queue_cost(game_state):\n",
    "                            actions[unit_id] = [unit.move(direction, repeat=0)]\n",
    "                # else if we have enough ice, we go back to the factory and dump it.\n",
    "                elif unit.cargo.ice >= 40:\n",
    "                    direction = direction_to(unit.pos, closest_factory_tile)\n",
    "                    if adjacent_to_factory:\n",
    "                        if unit.power >= unit.action_queue_cost(game_state):\n",
    "                            actions[unit_id] = [unit.transfer(direction, 0, unit.cargo.ice, repeat=0)]\n",
    "                    else:\n",
    "                        move_cost = unit.move_cost(game_state, direction)\n",
    "                        if move_cost is not None and unit.power >= move_cost + unit.action_queue_cost(game_state):\n",
    "                            actions[unit_id] = [unit.move(direction, repeat=0)]\n",
    "        return actions"
   ]
  },
  {
   "cell_type": "code",
   "execution_count": null,
   "metadata": {},
   "outputs": [],
   "source": [
    "env.agents"
   ]
  },
  {
   "cell_type": "code",
   "execution_count": null,
   "metadata": {},
   "outputs": [],
   "source": []
  },
  {
   "cell_type": "code",
   "execution_count": null,
   "metadata": {},
   "outputs": [],
   "source": [
    "#ctrlf\n",
    "\n",
    "#from test_agent6 import TestAgent\n",
    "\n",
    "\n",
    "agents = {\n",
    "    env.agents[0]: TestAgent_0(env.agents[0], env.state.env_cfg),\n",
    "    env.agents[1]: TestAgent_1(env.agents[1], env.state.env_cfg),\n",
    "}\n",
    "interact(env, agents, 10)"
   ]
  },
  {
   "cell_type": "markdown",
   "metadata": {},
   "source": [
    "## Create a submission\n",
    "Now we need to create a .tar.gz file with main.py (and agent.py) at the top level. We can then upload this!"
   ]
  },
  {
   "cell_type": "code",
   "execution_count": null,
   "metadata": {
    "execution": {
     "iopub.execute_input": "2023-01-24T19:48:00.139465Z",
     "iopub.status.busy": "2023-01-24T19:48:00.138997Z",
     "iopub.status.idle": "2023-01-24T19:48:01.471618Z",
     "shell.execute_reply": "2023-01-24T19:48:01.469711Z",
     "shell.execute_reply.started": "2023-01-24T19:48:00.139430Z"
    }
   },
   "outputs": [],
   "source": [
    "!tar -czf submission.tar.gz *"
   ]
  },
  {
   "cell_type": "markdown",
   "metadata": {},
   "source": [
    "## Submit\n",
    "Now open the /kaggle/working folder and find submission.tar.gz, download that file, navigate to the \"MySubmissions\" tab in https://www.kaggle.com/c/lux-ai-season-2/ and upload your submission! It should play a validation match against itself and once it succeeds it will be automatically matched against other players' submissions. Newer submissions will be prioritized for games over older ones. Your team is limited in the number of succesful submissions per day so we highly recommend testing your bot locally before submitting."
   ]
  },
  {
   "cell_type": "markdown",
   "metadata": {},
   "source": [
    "## CLI Tool\n",
    "\n",
    "To test your agent without using the python API you can also run"
   ]
  },
  {
   "cell_type": "code",
   "execution_count": null,
   "metadata": {
    "execution": {
     "iopub.execute_input": "2023-01-24T19:48:30.388487Z",
     "iopub.status.busy": "2023-01-24T19:48:30.388006Z",
     "iopub.status.idle": "2023-01-24T19:48:37.207607Z",
     "shell.execute_reply": "2023-01-24T19:48:37.205935Z",
     "shell.execute_reply.started": "2023-01-24T19:48:30.388447Z"
    }
   },
   "outputs": [],
   "source": [
    "!luxai-s2 main.py main.py -v 2 -s 101 -o replay.json"
   ]
  },
  {
   "cell_type": "markdown",
   "metadata": {},
   "source": [
    "which uses a random seed and generates a replay.html file that you can click and watch. Optionally if you specify `-o replay.json` you can upload replay.json to http://s2vis.lux-ai.org/.\n",
    "\n",
    "The CLI tool enables you to easily run episodes between any two agents (python or not) and provides a flexible tournament running tool to evaluate many agents together. Documentation on this tool can be found here: https://github.com/Lux-AI-Challenge/Lux-Design-S2/tree/main/luxai_runner/README.md"
   ]
  },
  {
   "cell_type": "code",
   "execution_count": null,
   "metadata": {
    "execution": {
     "iopub.execute_input": "2023-01-24T19:50:03.841109Z",
     "iopub.status.busy": "2023-01-24T19:50:03.840662Z",
     "iopub.status.idle": "2023-01-24T19:50:03.859821Z",
     "shell.execute_reply": "2023-01-24T19:50:03.858195Z",
     "shell.execute_reply.started": "2023-01-24T19:50:03.841075Z"
    }
   },
   "outputs": [],
   "source": [
    "import IPython\n",
    "IPython.display.HTML(filename='replay.html')"
   ]
  },
  {
   "cell_type": "markdown",
   "metadata": {},
   "source": [
    "And they're off! The heavy robots have started to move towards the ice tiles and some have begun mining.\n",
    "\n",
    "#### Delivering Resources and Keep Factories Alive\n",
    "We now have ice being mined, but we now need to deliver that back to the factories so they can refine that ice into water and sustain themselves."
   ]
  },
  {
   "cell_type": "code",
   "execution_count": null,
   "metadata": {
    "execution": {
     "iopub.execute_input": "2023-01-24T19:45:43.271329Z",
     "iopub.status.busy": "2023-01-24T19:45:43.269909Z",
     "iopub.status.idle": "2023-01-24T19:45:43.293813Z",
     "shell.execute_reply": "2023-01-24T19:45:43.292379Z",
     "shell.execute_reply.started": "2023-01-24T19:45:43.271269Z"
    }
   },
   "outputs": [],
   "source": [
    "def act(self, step: int, obs, remainingOverageTime: int = 60):\n",
    "    actions = dict()\n",
    "    game_state = obs_to_game_state(step, self.env_cfg, obs)\n",
    "    factories = game_state.factories[self.player]\n",
    "    factory_tiles, factory_units = [], []\n",
    "    for unit_id, factory in factories.items():\n",
    "        if factory.power >= self.env_cfg.ROBOTS[\"HEAVY\"].POWER_COST and \\\n",
    "        factory.cargo.metal >= self.env_cfg.ROBOTS[\"HEAVY\"].METAL_COST:\n",
    "            actions[unit_id] = factory.build_heavy()\n",
    "        factory_tiles += [factory.pos]\n",
    "        factory_units += [factory]\n",
    "    factory_tiles = np.array(factory_tiles)\n",
    "\n",
    "    units = game_state.units[self.player]\n",
    "    ice_map = game_state.board.ice\n",
    "    ice_tile_locations = np.argwhere(ice_map == 1)\n",
    "    for unit_id, unit in units.items():\n",
    "        \n",
    "        # track the closest factory\n",
    "        closest_factory = None\n",
    "        adjacent_to_factory = False\n",
    "        if len(factory_tiles) > 0:\n",
    "            factory_distances = np.mean((factory_tiles - unit.pos) ** 2, 1)\n",
    "            closest_factory_tile = factory_tiles[np.argmin(factory_distances)]\n",
    "            closest_factory = factory_units[np.argmin(factory_distances)]\n",
    "            adjacent_to_factory = np.mean((closest_factory_tile - unit.pos) ** 2) == 0\n",
    "        \n",
    "            # previous ice mining code\n",
    "            if unit.cargo.ice < 40:\n",
    "                ice_tile_distances = np.mean((ice_tile_locations - unit.pos) ** 2, 1)\n",
    "                closest_ice_tile = ice_tile_locations[np.argmin(ice_tile_distances)]\n",
    "                if np.all(closest_ice_tile == unit.pos):\n",
    "                    if unit.power >= unit.dig_cost(game_state) + unit.action_queue_cost(game_state):\n",
    "                        actions[unit_id] = [unit.dig(repeat=0)]\n",
    "                else:\n",
    "                    direction = direction_to(unit.pos, closest_ice_tile)\n",
    "                    move_cost = unit.move_cost(game_state, direction)\n",
    "                    if move_cost is not None and unit.power >= move_cost + unit.action_queue_cost(game_state):\n",
    "                        actions[unit_id] = [unit.move(direction, repeat=0)]\n",
    "            # else if we have enough ice, we go back to the factory and dump it.\n",
    "            elif unit.cargo.ice >= 40:\n",
    "                direction = direction_to(unit.pos, closest_factory_tile)\n",
    "                if adjacent_to_factory:\n",
    "                    if unit.power >= unit.action_queue_cost(game_state):\n",
    "                        actions[unit_id] = [unit.transfer(direction, 0, unit.cargo.ice, repeat=0)]\n",
    "                else:\n",
    "                    move_cost = unit.move_cost(game_state, direction)\n",
    "                    if move_cost is not None and unit.power >= move_cost + unit.action_queue_cost(game_state):\n",
    "                        actions[unit_id] = [unit.move(direction, repeat=0)]\n",
    "    return actions\n",
    "Agent.act = act"
   ]
  },
  {
   "cell_type": "code",
   "execution_count": null,
   "metadata": {
    "execution": {
     "iopub.execute_input": "2023-01-24T19:46:04.547457Z",
     "iopub.status.busy": "2023-01-24T19:46:04.546378Z",
     "iopub.status.idle": "2023-01-24T19:46:37.196058Z",
     "shell.execute_reply": "2023-01-24T19:46:37.194690Z",
     "shell.execute_reply.started": "2023-01-24T19:46:04.547421Z"
    }
   },
   "outputs": [],
   "source": [
    "# recreate our agents and run\n",
    "agents = {player: Agent(player, env.state.env_cfg) for player in env.agents}\n",
    "interact(env, agents, 300)"
   ]
  },
  {
   "cell_type": "code",
   "execution_count": null,
   "metadata": {},
   "outputs": [],
   "source": [
    "img = env.render(\"rgb_array\", width=640, height=640)\n",
    "plt.imshow(img)"
   ]
  },
  {
   "cell_type": "code",
   "execution_count": null,
   "metadata": {},
   "outputs": [],
   "source": []
  }
 ],
 "metadata": {
  "kernelspec": {
   "display_name": "Python 3 (ipykernel)",
   "language": "python",
   "name": "python3"
  },
  "language_info": {
   "codemirror_mode": {
    "name": "ipython",
    "version": 3
   },
   "file_extension": ".py",
   "mimetype": "text/x-python",
   "name": "python",
   "nbconvert_exporter": "python",
   "pygments_lexer": "ipython3",
   "version": "3.8.16"
  },
  "vscode": {
   "interpreter": {
    "hash": "95c78092eaa97395644b547c35f355f36ca9b4a25bd2b7641e327063759a9b57"
   }
  }
 },
 "nbformat": 4,
 "nbformat_minor": 4
}
