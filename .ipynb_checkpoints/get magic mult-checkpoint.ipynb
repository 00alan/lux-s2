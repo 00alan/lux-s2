{
 "cells": [
  {
   "cell_type": "code",
   "execution_count": 1,
   "id": "6e685653",
   "metadata": {},
   "outputs": [
    {
     "name": "stdout",
     "output_type": "stream",
     "text": [
      "pygame 2.1.3 (SDL 2.0.22, Python 3.8.16)\n",
      "Hello from the pygame community. https://www.pygame.org/contribute.html\n"
     ]
    },
    {
     "data": {
      "text/plain": [
       "0.045454545454545456"
      ]
     },
     "execution_count": 1,
     "metadata": {},
     "output_type": "execute_result"
    }
   ],
   "source": [
    "from luxai_s2.env import LuxAI_S2\n",
    "import matplotlib.pyplot as plt\n",
    "import numpy as np\n",
    "from tqdm import tqdm\n",
    "from scipy.ndimage import distance_transform_cdt\n",
    "import itertools\n",
    "\n",
    "ore1_vs_ice1_mult = 1/2\n",
    "second_factory_mult = 1/3\n",
    "# commented out below line because territory metric should take care of this when neccessary\n",
    "#factory_border_buffer = 3\n",
    "n_factories = 5\n",
    "N_second_ice_cutoff = 10 #more than N nsquares away from factory center and we don't care about the 2nd ice anymore\n",
    "ice2_vs_ice1_mult = ore1_vs_ice1_mult * 1/(N_second_ice_cutoff + 1)\n",
    "#above: just make sure factories with no nearby ice2 don't get penalty that overshadows the ore1 penalty.\n",
    "#ice2_vs_ice1_mult = 1/(N_second_ice_cutoff + 1)\n",
    "ice2_vs_ice1_mult"
   ]
  },
  {
   "cell_type": "code",
   "execution_count": 2,
   "id": "b2c38774",
   "metadata": {},
   "outputs": [],
   "source": [
    "def board_manhattan_distance(binary_mask):\n",
    "    # Get the distance map from every pixel to the nearest positive pixel\n",
    "    distance_map = distance_transform_cdt(binary_mask, metric='taxicab')\n",
    "    return distance_map\n",
    "\n",
    "def generate_nsquares(point, n):\n",
    "    x, y = point\n",
    "    nsquares = []\n",
    "    for i in range(-n, n+1):\n",
    "        for j in range(-n, n+1):\n",
    "            if abs(i) == n or abs(j) == n:\n",
    "                nsquares.append((x+i, y+j))\n",
    "    return nsquares\n",
    "\n",
    "def generate_pairings(lst):\n",
    "    pairings = []\n",
    "    for i, j in itertools.combinations(lst, 2):\n",
    "        pairings.append((i,j))\n",
    "    return pairings\n",
    "\n",
    "def bipartite_pairings(L, R):\n",
    "    pairings = set()\n",
    "    for l in L:\n",
    "        for r in R:\n",
    "            pairings.add((l, r))\n",
    "    return pairings\n",
    "\n",
    "def manh(point1, point2):\n",
    "    return abs(point1[0] - point2[0]) + abs(point1[1] - point2[1])\n",
    "\n",
    "def nearest_point(point, points):\n",
    "    nearest = points[0]\n",
    "    nearest_distance = manh(point, nearest)\n",
    "    for p in points[1:]:\n",
    "        distance = manh(point, p)\n",
    "        if distance < nearest_distance:\n",
    "            nearest = p\n",
    "            nearest_distance = distance\n",
    "    return nearest\n",
    "\n",
    "def n_dist_to_nearest(A, n):\n",
    "    B = set()\n",
    "    for x in range(min(p[0] for p in A) - n, max(p[0] for p in A) + n+1):\n",
    "        for y in range(min(p[1] for p in A) - n, max(p[1] for p in A) + n+1):\n",
    "            point = (x, y)\n",
    "            nearest = nearest_point(point, A)\n",
    "            if manh(point, nearest) == n:\n",
    "                B.add(point)\n",
    "    return B"
   ]
  },
  {
   "cell_type": "code",
   "execution_count": 3,
   "id": "87db1cf2",
   "metadata": {},
   "outputs": [
    {
     "name": "stderr",
     "output_type": "stream",
     "text": [
      "100%|████████████████████████████████████████████████████████████████████████████████| 400/400 [02:44<00:00,  2.44it/s]"
     ]
    },
    {
     "name": "stdout",
     "output_type": "stream",
     "text": [
      "CPU times: total: 2min 41s\n",
      "Wall time: 2min 44s\n"
     ]
    },
    {
     "name": "stderr",
     "output_type": "stream",
     "text": [
      "\n"
     ]
    }
   ],
   "source": [
    "%%time\n",
    "\n",
    "first_vs_seconds = []\n",
    "\n",
    "for _ in tqdm(range(400)):\n",
    "    env = LuxAI_S2()\n",
    "    obs = env.reset()\n",
    "\n",
    "    board_ice = obs['player_0'][\"board\"][\"ice\"]\n",
    "    board_ore = obs['player_0'][\"board\"][\"ore\"]\n",
    "    dist_ice = board_manhattan_distance(1 - board_ice)\n",
    "    dist_ore = board_manhattan_distance(1 - board_ore)\n",
    "\n",
    "    valid_spawns = obs[\"player_0\"][\"board\"][\"valid_spawns_mask\"] \n",
    "    factory_dist_ice, factory_dist_ore = [], []\n",
    "    for x in range(48):\n",
    "        for y in range(48):\n",
    "            #if not valid_spawns[x][y] or (x - factory_border_buffer < 0 or y - factory_border_buffer < 0) or (x + factory_border_buffer >= 48 or y + factory_border_buffer >= 48): \n",
    "            if not valid_spawns[x][y]:\n",
    "                factory_dist_ice.append(999)\n",
    "                factory_dist_ore.append(999)\n",
    "                continue\n",
    "            closest_ice = min([dist_ice[_x, _y] for _x, _y in generate_nsquares([x,y], 1)])\n",
    "            factory_dist_ice.append(closest_ice)\n",
    "\n",
    "            closest_ore = min([dist_ore[_x, _y] for _x, _y in generate_nsquares([x,y], 1)])\n",
    "            factory_dist_ore.append(closest_ore)    \n",
    "\n",
    "    scores = factory_dist_ice + np.array(factory_dist_ore) * ore1_vs_ice1_mult\n",
    "    #print(48*48, len(scores))\n",
    "    sorted_indexes_1 = np.argsort(scores)\n",
    "    #sorted_indexes[:100]\n",
    "\n",
    "\n",
    "    less = 50 #number of locations we will do computations for 2nd closest ice\n",
    "    factory_dist_ice2 = []\n",
    "    for i in sorted_indexes_1[:less]:\n",
    "        x,y = np.unravel_index(i, (48, 48))\n",
    "        dist_ice1 = dist_ice[x][y]\n",
    "        dist_ice2 = None\n",
    "        factory_tiles = generate_nsquares([x,y], 1)\n",
    "\n",
    "        less_than_n_away = []\n",
    "        for n in range(0, N_second_ice_cutoff): #if second ice is more than N nsquares away it kinda doesnt matter, can just add some constant penalty\n",
    "            if dist_ice2:\n",
    "                break\n",
    "            n_away = []\n",
    "\n",
    "            if n < 2: #these are factory tiles\n",
    "                continue\n",
    "            if n == 2: #edge case where ltoet_n_away is empty\n",
    "                for _x,_y in n_dist_to_nearest(factory_tiles, n):\n",
    "                    if (_x < 0 or _y < 0) or (_x >= 48 or _y >= 48): \n",
    "                        continue\n",
    "                    if board_ice[_x][_y] == 1:\n",
    "                        n_away.append((_x,_y))  \n",
    "                if len(n_away) >= 2:\n",
    "                    for ice1, ice2 in generate_pairings(n_away):\n",
    "                        if manh(ice1, ice2) > 2:\n",
    "                            dist_ice2 = manh(ice2, (x,y))\n",
    "                for loc in n_away:\n",
    "                    less_than_n_away.append(loc)\n",
    "            else:            \n",
    "                for _x,_y in n_dist_to_nearest(factory_tiles, n):\n",
    "                    if (_x < 0 or _y < 0) or (_x >= 48 or _y >= 48): \n",
    "                        continue\n",
    "                    if board_ice[_x][_y] == 1:\n",
    "                        n_away.append((_x,_y))  \n",
    "                    if len(n_away) >= 1:\n",
    "                        for ice1, ice2 in bipartite_pairings(less_than_n_away, n_away):\n",
    "                            if manh(ice1, ice2) > 2:\n",
    "                                dist_ice2 = manh(ice2, (x,y))\n",
    "                    for loc in n_away:\n",
    "                        less_than_n_away.append(loc)   \n",
    "        #finished going from 0 to cutoff\n",
    "        if not dist_ice2:\n",
    "            dist_ice2 = N_second_ice_cutoff+1\n",
    "        factory_dist_ice2.append(dist_ice2)\n",
    "    for i in sorted_indexes_1[less:]:\n",
    "        dist_ice2 = N_second_ice_cutoff+1\n",
    "        factory_dist_ice2.append(dist_ice2)\n",
    "    assert len(factory_dist_ice2) == len(scores)\n",
    "    #print(factory_dist_ice2[:20])\n",
    "\n",
    "\n",
    "    #update scores to reflect distances to ice2\n",
    "    for _ in range(48*48):\n",
    "        i = sorted_indexes_1[_] #because we indexed factory_dist_ice2 differently so we dont have to compute for all 48*48\n",
    "        #print(scores[i], factory_dist_ice2[_])\n",
    "        scores[i] += factory_dist_ice2[_] * ice2_vs_ice1_mult\n",
    "    #sorted_indexes_2 to reflect new scores accounting for ice2\n",
    "    sorted_indexes_2 = np.argsort(scores) \n",
    "\n",
    "    no_overlap, nol_scores = [], [] \n",
    "    corresponding_si1_index = [] #corresponding to sorted_indexes_1\n",
    "    count = -1\n",
    "    #while len(no_overlap) < 2*n_factories:\n",
    "    while len(no_overlap) < 4:\n",
    "        count += 1\n",
    "        i = sorted_indexes_2[count]\n",
    "        loc = np.unravel_index(i, (48, 48))\n",
    "        score = scores[i]\n",
    "        if len(no_overlap) == 0:\n",
    "            no_overlap.append(loc)\n",
    "            nol_scores.append(score)\n",
    "            flattened_i = loc[0]*48 + loc[1]\n",
    "            corresponding_si1_index.append(list(sorted_indexes_1).index(flattened_i))\n",
    "            continue\n",
    "        if any([np.sum(np.abs(np.array(loc)-np.array(factory))) < 6 for factory in no_overlap]):\n",
    "            scores[i] = 999 #this is only here to show results in the print loop below, once factories start getting placed can mess things up\n",
    "            continue\n",
    "        no_overlap.append(loc)\n",
    "        nol_scores.append(score)\n",
    "        flattened_i = loc[0]*48 + loc[1]\n",
    "        corresponding_si1_index.append(list(sorted_indexes_1).index(flattened_i))\n",
    "\n",
    "    for i in sorted_indexes_2[:count+1]:\n",
    "        #print(np.unravel_index(i, (48, 48)), factory_dist_ice[i], factory_dist_ore[i], scores[i])\n",
    "        break\n",
    "\n",
    "    #print(no_overlap)\n",
    "    #print(nol_scores)\n",
    "    #print(corresponding_si1_index) #IMPORTANT: these are rarely over 50, so we can pretty comfortably set the 'less' var above to 80\n",
    "    #print([dist_ice[x][y] for x,y in no_overlap])\n",
    "    #print([dist_ore[x][y] for x,y in no_overlap])\n",
    "    first_vs_seconds.append((nol_scores[0] - nol_scores[1]) + second_factory_mult * (nol_scores[2] - nol_scores[3]))"
   ]
  },
  {
   "cell_type": "code",
   "execution_count": 5,
   "id": "6ed46d78",
   "metadata": {},
   "outputs": [
    {
     "name": "stdout",
     "output_type": "stream",
     "text": [
      "0.7425\n",
      "0.0025\n",
      "-0.37640151515151515\n"
     ]
    },
    {
     "data": {
      "image/png": "[encoded data removed]",
      "text/plain": [
       "<Figure size 640x480 with 1 Axes>"
      ]
     },
     "metadata": {},
     "output_type": "display_data"
    }
   ],
   "source": [
    "#should only bid not rounded to 10 for bids < 10. for example we dont want to bid 11 because it reduces 5 initial bots to \n",
    "\n",
    "print(sum([abs(x) < 0.5 for x in first_vs_seconds]) / len(first_vs_seconds)) #proportion of games where we bid < 10\n",
    "print(sum([abs(x) > 2.4696969696969697 for x in first_vs_seconds]) / len(first_vs_seconds))\n",
    "print(np.mean(first_vs_seconds))\n",
    "plt.hist(first_vs_seconds, bins = 50)\n",
    "plt.show()"
   ]
  },
  {
   "cell_type": "code",
   "execution_count": 24,
   "id": "11b8d659",
   "metadata": {},
   "outputs": [
    {
     "name": "stdout",
     "output_type": "stream",
     "text": [
      "400\n",
      "0.4425\n",
      "0.115\n",
      "0.02\n",
      "6.47\n"
     ]
    },
    {
     "data": {
      "image/png": "[encoded data removed]",
      "text/plain": [
       "<Figure size 640x480 with 1 Axes>"
      ]
     },
     "metadata": {},
     "output_type": "display_data"
    }
   ],
   "source": [
    "import random\n",
    "\n",
    "max_encountered_bid = 40\n",
    "\n",
    "magic_mult = 20\n",
    "\n",
    "fair_vals = np.array(first_vs_seconds) * -1 * magic_mult \n",
    "print(len(fair_vals))\n",
    "simulated_bids = []\n",
    "for f in fair_vals:\n",
    "    n_factories = random.randint(2,5)**0.5\n",
    "    f *= n_factories**0.5\n",
    "    bid=0\n",
    "    if f%10 > 0:\n",
    "        bid = f - f%10 + max(0, f%10 - 5)\n",
    "    elif f%10 == 0:\n",
    "        bid = max(0, f - 5)\n",
    "    bid = min(max_encountered_bid + 1, round(bid))\n",
    "    simulated_bids.append(bid)\n",
    "print(sum([x == 0 for x in simulated_bids]) / len(simulated_bids)) #proportion of games where we bid < 10\n",
    "print(sum([x == 10 for x in simulated_bids]) / len(simulated_bids)) #proportion of games where we bid < 10\n",
    "print(sum([x >= 40 for x in simulated_bids]) / len(simulated_bids)) \n",
    "print(np.mean(simulated_bids))\n",
    "plt.hist(simulated_bids, bins = 50)\n",
    "plt.show()"
   ]
  },
  {
   "cell_type": "code",
   "execution_count": null,
   "id": "d95dde68",
   "metadata": {},
   "outputs": [],
   "source": []
  },
  {
   "cell_type": "code",
   "execution_count": null,
   "id": "c9eb9719",
   "metadata": {},
   "outputs": [],
   "source": []
  }
 ],
 "metadata": {
  "kernelspec": {
   "display_name": "Python 3 (ipykernel)",
   "language": "python",
   "name": "python3"
  },
  "language_info": {
   "codemirror_mode": {
    "name": "ipython",
    "version": 3
   },
   "file_extension": ".py",
   "mimetype": "text/x-python",
   "name": "python",
   "nbconvert_exporter": "python",
   "pygments_lexer": "ipython3",
   "version": "3.8.16"
  }
 },
 "nbformat": 4,
 "nbformat_minor": 5
}
